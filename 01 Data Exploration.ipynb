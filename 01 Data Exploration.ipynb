{
 "cells": [
  {
   "cell_type": "markdown",
   "metadata": {},
   "source": [
    "This is notebook is for exploring and understanding the datasets and preparing data for later machine learning models.\n",
    "\n",
    "> ### Key parts in this notebook\n",
    "\n",
    "### Analyze `Portfolio` data\n",
    "\n",
    "In this part we will take a look at the promotion offers. There are 10 different promotions that belong to 3 general types. There are 4 features that describe the promotions: channels, difficulty, duration and reward. We found out that discount promotions usually have long durations and high difficulties while buy-one-get-one promotions have shorter durations and lower difficulties. Discount promotions will have higher reward. \n",
    "\n",
    "### Analyze `Profile` data\n",
    "\n",
    "In this part we will take a look at customers' demographic data.\n",
    "\n",
    "`Age`: 12.8% of the data are missing. About half the customers are between 50 and 80 years old.\n",
    "<br>`Gender`: 1.4% of the data are missing. 57.2% of the customers are males.\n",
    "<br>`Customer age (how long the customer has been with us)`: 56% of the customers joined in the past 3 years.\n",
    "<br>`Income`: 12.8% of the data are missing. Income seems to be corrrelated with age. In this simulated dataset, different age buckets have different limits of maximum incomes. For people under 40 years old, their income won't exceed \n",
    "80k and for people under 50 years old, their income won't exceed 100k. For older people, the maximum income is about 120k. About 40% of the income numbers are between 50k and 80k.\n",
    "\n",
    "### Analyze `Transcript` data\n",
    "\n",
    "There are 4 types of transcripts: `normal transaction`, `offer received`, `offer viewed` and `offer complete`. \n",
    "\n",
    "In total we offered 76,277 promotions and there are 63,288 unique person + offer_type combinations. Only 6 people didn't revceive any offer.\n",
    "\n",
    "**Each person can receive the same type of offer for multiple times** and the offer id only tells what type of offer that is ---- it can't be used to recognize a unique offer. Our challenge here is to match the various actions to tell if a certain offer was viewed or completed. Also, customers might not receive all types of offers.\n",
    "\n",
    "**We solve this problem by giving an order number of the transactions for each customer. The offer id plus the rank can be seen as a \"unique ID\" for that offer.** We discovered that until the current offer expires, the app won't send another offer under the same type to that customer (we will prove this later). We will attribute the earlist following actions (view the offer or complete the offer) to the earliest offer (under the same offer id) with an extra condition that the following actions need to happen before that offer expires.\n",
    "\n",
    "*After matching offer_received with offer_viewed and offer_complete, we build out the funnel for each promotion sent:*\n",
    "\n",
    "offer_received \n",
    "<br>|__ offer viewed \n",
    "<br>&nbsp; &nbsp; &nbsp; |__ offer completed\n",
    "<br>&nbsp; &nbsp; &nbsp; |__ offer not completed\n",
    "<br>|__ offer not viewed\n",
    "<br>&nbsp; &nbsp; &nbsp; |__ offer completed\n",
    "<br>&nbsp; &nbsp; &nbsp; |__ offer not completed\n",
    "\n",
    "74.16% of the offers were viewed (while a small portion of them were viewed after they were completed); 12.86% of the offers were viewed without being completed. Among the viewed offers, 66.96% of the offers were viewed within 1 day after the offer were received. 13.54% of the offer were completed within one day after being viewed.\n",
    "\n",
    "In general, offers that are viewed are more likely to be completed, especially for discount promotions. Female customers, older (> 35) customers, wealthier customers and customers who joined earlier are more valuable."
   ]
  },
  {
   "cell_type": "markdown",
   "metadata": {},
   "source": [
    "# 1. Load Data and Packages"
   ]
  },
  {
   "cell_type": "code",
   "execution_count": 1,
   "metadata": {},
   "outputs": [],
   "source": [
    "import pandas as pd\n",
    "import numpy as np\n",
    "import math\n",
    "import json\n",
    "import matplotlib.pyplot as plt\n",
    "import seaborn as sns\n",
    "from datetime import datetime\n",
    "\n",
    "# read in the json files\n",
    "portfolio = pd.read_json('portfolio.json', orient='records', lines=True)\n",
    "profile = pd.read_json('profile.json', orient='records', lines=True)\n",
    "transcript = pd.read_json('transcript.json', orient='records', lines=True)"
   ]
  },
  {
   "cell_type": "markdown",
   "metadata": {},
   "source": [
    "# 2. Understand the data"
   ]
  },
  {
   "cell_type": "markdown",
   "metadata": {},
   "source": [
    "# 2.1 Analyze `portfolio` data\n",
    "\n",
    "Portfolio dataset shows the information about the promos.\n",
    "\n",
    "Explanation of the data:\n",
    "\n",
    "**reward: (numeric)** money awarded for the amount spent\n",
    "<br>**channels: (list)** web, email, mobile, social\n",
    "<br>**difficulty: (numeric)** money required to be spent to receive reward\n",
    "<br>**duration: (numeric)** time for offer to be open, in days\n",
    "<br>**offer_type: (string)** bogo, discount, informational"
   ]
  },
  {
   "cell_type": "code",
   "execution_count": 2,
   "metadata": {},
   "outputs": [
    {
     "data": {
      "text/html": [
       "<div>\n",
       "<style scoped>\n",
       "    .dataframe tbody tr th:only-of-type {\n",
       "        vertical-align: middle;\n",
       "    }\n",
       "\n",
       "    .dataframe tbody tr th {\n",
       "        vertical-align: top;\n",
       "    }\n",
       "\n",
       "    .dataframe thead th {\n",
       "        text-align: right;\n",
       "    }\n",
       "</style>\n",
       "<table border=\"1\" class=\"dataframe\">\n",
       "  <thead>\n",
       "    <tr style=\"text-align: right;\">\n",
       "      <th></th>\n",
       "      <th>channels</th>\n",
       "      <th>difficulty</th>\n",
       "      <th>duration</th>\n",
       "      <th>id</th>\n",
       "      <th>offer_type</th>\n",
       "      <th>reward</th>\n",
       "    </tr>\n",
       "  </thead>\n",
       "  <tbody>\n",
       "    <tr>\n",
       "      <th>0</th>\n",
       "      <td>[email, mobile, social]</td>\n",
       "      <td>10</td>\n",
       "      <td>7</td>\n",
       "      <td>ae264e3637204a6fb9bb56bc8210ddfd</td>\n",
       "      <td>bogo</td>\n",
       "      <td>10</td>\n",
       "    </tr>\n",
       "    <tr>\n",
       "      <th>1</th>\n",
       "      <td>[web, email, mobile, social]</td>\n",
       "      <td>10</td>\n",
       "      <td>5</td>\n",
       "      <td>4d5c57ea9a6940dd891ad53e9dbe8da0</td>\n",
       "      <td>bogo</td>\n",
       "      <td>10</td>\n",
       "    </tr>\n",
       "    <tr>\n",
       "      <th>2</th>\n",
       "      <td>[web, email, mobile]</td>\n",
       "      <td>0</td>\n",
       "      <td>4</td>\n",
       "      <td>3f207df678b143eea3cee63160fa8bed</td>\n",
       "      <td>informational</td>\n",
       "      <td>0</td>\n",
       "    </tr>\n",
       "    <tr>\n",
       "      <th>3</th>\n",
       "      <td>[web, email, mobile]</td>\n",
       "      <td>5</td>\n",
       "      <td>7</td>\n",
       "      <td>9b98b8c7a33c4b65b9aebfe6a799e6d9</td>\n",
       "      <td>bogo</td>\n",
       "      <td>5</td>\n",
       "    </tr>\n",
       "    <tr>\n",
       "      <th>4</th>\n",
       "      <td>[web, email]</td>\n",
       "      <td>20</td>\n",
       "      <td>10</td>\n",
       "      <td>0b1e1539f2cc45b7b9fa7c272da2e1d7</td>\n",
       "      <td>discount</td>\n",
       "      <td>5</td>\n",
       "    </tr>\n",
       "    <tr>\n",
       "      <th>5</th>\n",
       "      <td>[web, email, mobile, social]</td>\n",
       "      <td>7</td>\n",
       "      <td>7</td>\n",
       "      <td>2298d6c36e964ae4a3e7e9706d1fb8c2</td>\n",
       "      <td>discount</td>\n",
       "      <td>3</td>\n",
       "    </tr>\n",
       "    <tr>\n",
       "      <th>6</th>\n",
       "      <td>[web, email, mobile, social]</td>\n",
       "      <td>10</td>\n",
       "      <td>10</td>\n",
       "      <td>fafdcd668e3743c1bb461111dcafc2a4</td>\n",
       "      <td>discount</td>\n",
       "      <td>2</td>\n",
       "    </tr>\n",
       "    <tr>\n",
       "      <th>7</th>\n",
       "      <td>[email, mobile, social]</td>\n",
       "      <td>0</td>\n",
       "      <td>3</td>\n",
       "      <td>5a8bc65990b245e5a138643cd4eb9837</td>\n",
       "      <td>informational</td>\n",
       "      <td>0</td>\n",
       "    </tr>\n",
       "    <tr>\n",
       "      <th>8</th>\n",
       "      <td>[web, email, mobile, social]</td>\n",
       "      <td>5</td>\n",
       "      <td>5</td>\n",
       "      <td>f19421c1d4aa40978ebb69ca19b0e20d</td>\n",
       "      <td>bogo</td>\n",
       "      <td>5</td>\n",
       "    </tr>\n",
       "    <tr>\n",
       "      <th>9</th>\n",
       "      <td>[web, email, mobile]</td>\n",
       "      <td>10</td>\n",
       "      <td>7</td>\n",
       "      <td>2906b810c7d4411798c6938adc9daaa5</td>\n",
       "      <td>discount</td>\n",
       "      <td>2</td>\n",
       "    </tr>\n",
       "  </tbody>\n",
       "</table>\n",
       "</div>"
      ],
      "text/plain": [
       "                       channels  difficulty  duration  \\\n",
       "0       [email, mobile, social]          10         7   \n",
       "1  [web, email, mobile, social]          10         5   \n",
       "2          [web, email, mobile]           0         4   \n",
       "3          [web, email, mobile]           5         7   \n",
       "4                  [web, email]          20        10   \n",
       "5  [web, email, mobile, social]           7         7   \n",
       "6  [web, email, mobile, social]          10        10   \n",
       "7       [email, mobile, social]           0         3   \n",
       "8  [web, email, mobile, social]           5         5   \n",
       "9          [web, email, mobile]          10         7   \n",
       "\n",
       "                                 id     offer_type  reward  \n",
       "0  ae264e3637204a6fb9bb56bc8210ddfd           bogo      10  \n",
       "1  4d5c57ea9a6940dd891ad53e9dbe8da0           bogo      10  \n",
       "2  3f207df678b143eea3cee63160fa8bed  informational       0  \n",
       "3  9b98b8c7a33c4b65b9aebfe6a799e6d9           bogo       5  \n",
       "4  0b1e1539f2cc45b7b9fa7c272da2e1d7       discount       5  \n",
       "5  2298d6c36e964ae4a3e7e9706d1fb8c2       discount       3  \n",
       "6  fafdcd668e3743c1bb461111dcafc2a4       discount       2  \n",
       "7  5a8bc65990b245e5a138643cd4eb9837  informational       0  \n",
       "8  f19421c1d4aa40978ebb69ca19b0e20d           bogo       5  \n",
       "9  2906b810c7d4411798c6938adc9daaa5       discount       2  "
      ]
     },
     "execution_count": 2,
     "metadata": {},
     "output_type": "execute_result"
    }
   ],
   "source": [
    "portfolio"
   ]
  },
  {
   "cell_type": "code",
   "execution_count": 3,
   "metadata": {},
   "outputs": [
    {
     "data": {
      "image/png": "[encoded data removed]",
      "text/plain": [
       "<Figure size 720x360 with 1 Axes>"
      ]
     },
     "metadata": {
      "needs_background": "light"
     },
     "output_type": "display_data"
    }
   ],
   "source": [
    "fig, ax = plt.subplots(figsize=(10,5))\n",
    "ax.scatter(portfolio['difficulty'], portfolio['duration'])\n",
    "plt.xlabel('difficulty')\n",
    "plt.ylabel('duration')\n",
    "plt.title(\"Promos\")\n",
    "\n",
    "for i, txt in enumerate(portfolio['offer_type']):\n",
    "    ax.annotate(txt, (portfolio['difficulty'][i], portfolio['duration'][i]))"
   ]
  },
  {
   "cell_type": "markdown",
   "metadata": {},
   "source": [
    "Discount promotions usually have long duration and high difficulties while buy-one-get-one promotions have shorter duration and lower difficulties. Discount promotions will have higher reward. In general, longer promotions will have higher difficulties."
   ]
  },
  {
   "cell_type": "code",
   "execution_count": 4,
   "metadata": {},
   "outputs": [],
   "source": [
    "portfolio['web'] = portfolio['channels'].apply(lambda x: 1 if 'web' in x else 0)\n",
    "portfolio['mobile'] = portfolio['channels'].apply(lambda x: 1 if 'mobile' in x else 0)\n",
    "portfolio['email'] = portfolio['channels'].apply(lambda x: 1 if 'email' in x else 0)\n",
    "portfolio['social'] = portfolio['channels'].apply(lambda x: 1 if 'social' in x else 0)"
   ]
  },
  {
   "cell_type": "code",
   "execution_count": 5,
   "metadata": {},
   "outputs": [
    {
     "data": {
      "text/html": [
       "<div>\n",
       "<style scoped>\n",
       "    .dataframe tbody tr th:only-of-type {\n",
       "        vertical-align: middle;\n",
       "    }\n",
       "\n",
       "    .dataframe tbody tr th {\n",
       "        vertical-align: top;\n",
       "    }\n",
       "\n",
       "    .dataframe thead th {\n",
       "        text-align: right;\n",
       "    }\n",
       "</style>\n",
       "<table border=\"1\" class=\"dataframe\">\n",
       "  <thead>\n",
       "    <tr style=\"text-align: right;\">\n",
       "      <th></th>\n",
       "      <th>channels</th>\n",
       "      <th>difficulty</th>\n",
       "      <th>duration</th>\n",
       "      <th>id</th>\n",
       "      <th>offer_type</th>\n",
       "      <th>reward</th>\n",
       "      <th>web</th>\n",
       "      <th>mobile</th>\n",
       "      <th>email</th>\n",
       "      <th>social</th>\n",
       "    </tr>\n",
       "  </thead>\n",
       "  <tbody>\n",
       "    <tr>\n",
       "      <th>0</th>\n",
       "      <td>[email, mobile, social]</td>\n",
       "      <td>10</td>\n",
       "      <td>7</td>\n",
       "      <td>ae264e3637204a6fb9bb56bc8210ddfd</td>\n",
       "      <td>bogo</td>\n",
       "      <td>10</td>\n",
       "      <td>0</td>\n",
       "      <td>1</td>\n",
       "      <td>1</td>\n",
       "      <td>1</td>\n",
       "    </tr>\n",
       "    <tr>\n",
       "      <th>1</th>\n",
       "      <td>[web, email, mobile, social]</td>\n",
       "      <td>10</td>\n",
       "      <td>5</td>\n",
       "      <td>4d5c57ea9a6940dd891ad53e9dbe8da0</td>\n",
       "      <td>bogo</td>\n",
       "      <td>10</td>\n",
       "      <td>1</td>\n",
       "      <td>1</td>\n",
       "      <td>1</td>\n",
       "      <td>1</td>\n",
       "    </tr>\n",
       "    <tr>\n",
       "      <th>2</th>\n",
       "      <td>[web, email, mobile]</td>\n",
       "      <td>0</td>\n",
       "      <td>4</td>\n",
       "      <td>3f207df678b143eea3cee63160fa8bed</td>\n",
       "      <td>informational</td>\n",
       "      <td>0</td>\n",
       "      <td>1</td>\n",
       "      <td>1</td>\n",
       "      <td>1</td>\n",
       "      <td>0</td>\n",
       "    </tr>\n",
       "    <tr>\n",
       "      <th>3</th>\n",
       "      <td>[web, email, mobile]</td>\n",
       "      <td>5</td>\n",
       "      <td>7</td>\n",
       "      <td>9b98b8c7a33c4b65b9aebfe6a799e6d9</td>\n",
       "      <td>bogo</td>\n",
       "      <td>5</td>\n",
       "      <td>1</td>\n",
       "      <td>1</td>\n",
       "      <td>1</td>\n",
       "      <td>0</td>\n",
       "    </tr>\n",
       "    <tr>\n",
       "      <th>4</th>\n",
       "      <td>[web, email]</td>\n",
       "      <td>20</td>\n",
       "      <td>10</td>\n",
       "      <td>0b1e1539f2cc45b7b9fa7c272da2e1d7</td>\n",
       "      <td>discount</td>\n",
       "      <td>5</td>\n",
       "      <td>1</td>\n",
       "      <td>0</td>\n",
       "      <td>1</td>\n",
       "      <td>0</td>\n",
       "    </tr>\n",
       "    <tr>\n",
       "      <th>5</th>\n",
       "      <td>[web, email, mobile, social]</td>\n",
       "      <td>7</td>\n",
       "      <td>7</td>\n",
       "      <td>2298d6c36e964ae4a3e7e9706d1fb8c2</td>\n",
       "      <td>discount</td>\n",
       "      <td>3</td>\n",
       "      <td>1</td>\n",
       "      <td>1</td>\n",
       "      <td>1</td>\n",
       "      <td>1</td>\n",
       "    </tr>\n",
       "    <tr>\n",
       "      <th>6</th>\n",
       "      <td>[web, email, mobile, social]</td>\n",
       "      <td>10</td>\n",
       "      <td>10</td>\n",
       "      <td>fafdcd668e3743c1bb461111dcafc2a4</td>\n",
       "      <td>discount</td>\n",
       "      <td>2</td>\n",
       "      <td>1</td>\n",
       "      <td>1</td>\n",
       "      <td>1</td>\n",
       "      <td>1</td>\n",
       "    </tr>\n",
       "    <tr>\n",
       "      <th>7</th>\n",
       "      <td>[email, mobile, social]</td>\n",
       "      <td>0</td>\n",
       "      <td>3</td>\n",
       "      <td>5a8bc65990b245e5a138643cd4eb9837</td>\n",
       "      <td>informational</td>\n",
       "      <td>0</td>\n",
       "      <td>0</td>\n",
       "      <td>1</td>\n",
       "      <td>1</td>\n",
       "      <td>1</td>\n",
       "    </tr>\n",
       "    <tr>\n",
       "      <th>8</th>\n",
       "      <td>[web, email, mobile, social]</td>\n",
       "      <td>5</td>\n",
       "      <td>5</td>\n",
       "      <td>f19421c1d4aa40978ebb69ca19b0e20d</td>\n",
       "      <td>bogo</td>\n",
       "      <td>5</td>\n",
       "      <td>1</td>\n",
       "      <td>1</td>\n",
       "      <td>1</td>\n",
       "      <td>1</td>\n",
       "    </tr>\n",
       "    <tr>\n",
       "      <th>9</th>\n",
       "      <td>[web, email, mobile]</td>\n",
       "      <td>10</td>\n",
       "      <td>7</td>\n",
       "      <td>2906b810c7d4411798c6938adc9daaa5</td>\n",
       "      <td>discount</td>\n",
       "      <td>2</td>\n",
       "      <td>1</td>\n",
       "      <td>1</td>\n",
       "      <td>1</td>\n",
       "      <td>0</td>\n",
       "    </tr>\n",
       "  </tbody>\n",
       "</table>\n",
       "</div>"
      ],
      "text/plain": [
       "                       channels  difficulty  duration  \\\n",
       "0       [email, mobile, social]          10         7   \n",
       "1  [web, email, mobile, social]          10         5   \n",
       "2          [web, email, mobile]           0         4   \n",
       "3          [web, email, mobile]           5         7   \n",
       "4                  [web, email]          20        10   \n",
       "5  [web, email, mobile, social]           7         7   \n",
       "6  [web, email, mobile, social]          10        10   \n",
       "7       [email, mobile, social]           0         3   \n",
       "8  [web, email, mobile, social]           5         5   \n",
       "9          [web, email, mobile]          10         7   \n",
       "\n",
       "                                 id     offer_type  reward  web  mobile  \\\n",
       "0  ae264e3637204a6fb9bb56bc8210ddfd           bogo      10    0       1   \n",
       "1  4d5c57ea9a6940dd891ad53e9dbe8da0           bogo      10    1       1   \n",
       "2  3f207df678b143eea3cee63160fa8bed  informational       0    1       1   \n",
       "3  9b98b8c7a33c4b65b9aebfe6a799e6d9           bogo       5    1       1   \n",
       "4  0b1e1539f2cc45b7b9fa7c272da2e1d7       discount       5    1       0   \n",
       "5  2298d6c36e964ae4a3e7e9706d1fb8c2       discount       3    1       1   \n",
       "6  fafdcd668e3743c1bb461111dcafc2a4       discount       2    1       1   \n",
       "7  5a8bc65990b245e5a138643cd4eb9837  informational       0    0       1   \n",
       "8  f19421c1d4aa40978ebb69ca19b0e20d           bogo       5    1       1   \n",
       "9  2906b810c7d4411798c6938adc9daaa5       discount       2    1       1   \n",
       "\n",
       "   email  social  \n",
       "0      1       1  \n",
       "1      1       1  \n",
       "2      1       0  \n",
       "3      1       0  \n",
       "4      1       0  \n",
       "5      1       1  \n",
       "6      1       1  \n",
       "7      1       1  \n",
       "8      1       1  \n",
       "9      1       0  "
      ]
     },
     "execution_count": 5,
     "metadata": {},
     "output_type": "execute_result"
    }
   ],
   "source": [
    "portfolio"
   ]
  },
  {
   "cell_type": "markdown",
   "metadata": {},
   "source": [
    "# 2.2 Analyze `profile` data\n",
    "\n",
    "Profile data has customers' demographic information.\n",
    "\n",
    "**gender: (categorical)** M, F, O, or null\n",
    "<br>**age: (numeric)** missing value encoded as 118\n",
    "<br>**id**: (string/hash)\n",
    "<br>**became_member_on**: (date) format YYYYMMDD\n",
    "<br>**income**: (numeric)"
   ]
  },
  {
   "cell_type": "code",
   "execution_count": 6,
   "metadata": {},
   "outputs": [
    {
     "data": {
      "text/plain": [
       "(17000, 5)"
      ]
     },
     "execution_count": 6,
     "metadata": {},
     "output_type": "execute_result"
    }
   ],
   "source": [
    "profile.shape"
   ]
  },
  {
   "cell_type": "code",
   "execution_count": 7,
   "metadata": {
    "scrolled": true
   },
   "outputs": [
    {
     "data": {
      "text/html": [
       "<div>\n",
       "<style scoped>\n",
       "    .dataframe tbody tr th:only-of-type {\n",
       "        vertical-align: middle;\n",
       "    }\n",
       "\n",
       "    .dataframe tbody tr th {\n",
       "        vertical-align: top;\n",
       "    }\n",
       "\n",
       "    .dataframe thead th {\n",
       "        text-align: right;\n",
       "    }\n",
       "</style>\n",
       "<table border=\"1\" class=\"dataframe\">\n",
       "  <thead>\n",
       "    <tr style=\"text-align: right;\">\n",
       "      <th></th>\n",
       "      <th>age</th>\n",
       "      <th>became_member_on</th>\n",
       "      <th>gender</th>\n",
       "      <th>id</th>\n",
       "      <th>income</th>\n",
       "    </tr>\n",
       "  </thead>\n",
       "  <tbody>\n",
       "    <tr>\n",
       "      <th>0</th>\n",
       "      <td>118</td>\n",
       "      <td>20170212</td>\n",
       "      <td>None</td>\n",
       "      <td>68be06ca386d4c31939f3a4f0e3dd783</td>\n",
       "      <td>NaN</td>\n",
       "    </tr>\n",
       "    <tr>\n",
       "      <th>1</th>\n",
       "      <td>55</td>\n",
       "      <td>20170715</td>\n",
       "      <td>F</td>\n",
       "      <td>0610b486422d4921ae7d2bf64640c50b</td>\n",
       "      <td>112000.0</td>\n",
       "    </tr>\n",
       "    <tr>\n",
       "      <th>2</th>\n",
       "      <td>118</td>\n",
       "      <td>20180712</td>\n",
       "      <td>None</td>\n",
       "      <td>38fe809add3b4fcf9315a9694bb96ff5</td>\n",
       "      <td>NaN</td>\n",
       "    </tr>\n",
       "    <tr>\n",
       "      <th>3</th>\n",
       "      <td>75</td>\n",
       "      <td>20170509</td>\n",
       "      <td>F</td>\n",
       "      <td>78afa995795e4d85b5d9ceeca43f5fef</td>\n",
       "      <td>100000.0</td>\n",
       "    </tr>\n",
       "    <tr>\n",
       "      <th>4</th>\n",
       "      <td>118</td>\n",
       "      <td>20170804</td>\n",
       "      <td>None</td>\n",
       "      <td>a03223e636434f42ac4c3df47e8bac43</td>\n",
       "      <td>NaN</td>\n",
       "    </tr>\n",
       "  </tbody>\n",
       "</table>\n",
       "</div>"
      ],
      "text/plain": [
       "   age  became_member_on gender                                id    income\n",
       "0  118          20170212   None  68be06ca386d4c31939f3a4f0e3dd783       NaN\n",
       "1   55          20170715      F  0610b486422d4921ae7d2bf64640c50b  112000.0\n",
       "2  118          20180712   None  38fe809add3b4fcf9315a9694bb96ff5       NaN\n",
       "3   75          20170509      F  78afa995795e4d85b5d9ceeca43f5fef  100000.0\n",
       "4  118          20170804   None  a03223e636434f42ac4c3df47e8bac43       NaN"
      ]
     },
     "execution_count": 7,
     "metadata": {},
     "output_type": "execute_result"
    }
   ],
   "source": [
    "profile.head()"
   ]
  },
  {
   "cell_type": "markdown",
   "metadata": {},
   "source": [
    "### 2.2.1 Age"
   ]
  },
  {
   "cell_type": "code",
   "execution_count": 8,
   "metadata": {},
   "outputs": [
    {
     "data": {
      "text/plain": [
       "Text(0.5, 1.0, 'Age distribution')"
      ]
     },
     "execution_count": 8,
     "metadata": {},
     "output_type": "execute_result"
    },
    {
     "data": {
      "image/png": "[encoded data removed]",
      "text/plain": [
       "<Figure size 432x288 with 1 Axes>"
      ]
     },
     "metadata": {
      "needs_background": "light"
     },
     "output_type": "display_data"
    }
   ],
   "source": [
    "plt.hist(profile['age'])\n",
    "plt.title(\"Age distribution\")"
   ]
  },
  {
   "cell_type": "markdown",
   "metadata": {},
   "source": [
    "Some people have wierd age numbers. We need to consider those values as missing values."
   ]
  },
  {
   "cell_type": "code",
   "execution_count": 9,
   "metadata": {},
   "outputs": [
    {
     "data": {
      "text/plain": [
       "0.12823529411764706"
      ]
     },
     "execution_count": 9,
     "metadata": {},
     "output_type": "execute_result"
    }
   ],
   "source": [
    "sum(profile['age'] > 100) / len(profile)"
   ]
  },
  {
   "cell_type": "markdown",
   "metadata": {},
   "source": [
    "We will now create age buckets for future visulizations and analysis."
   ]
  },
  {
   "cell_type": "code",
   "execution_count": 77,
   "metadata": {},
   "outputs": [],
   "source": [
    "def bucket_age(x):\n",
    "    x = float(x)\n",
    "    if x < 25 :\n",
    "        return \"0 ~ 24\"\n",
    "    elif x >= 25 and x <= 34:\n",
    "        return \"25 ~ 34\"\n",
    "    elif x >= 35 and x <= 44:\n",
    "        return \"35 ~ 44\"\n",
    "    elif x >= 45 and x <= 54:\n",
    "        return \"45 ~ 54\"\n",
    "    elif x >=55 and  x <= 64:\n",
    "        return \"55 ~ 64\"\n",
    "    elif x is None:\n",
    "        return float('nan')\n",
    "    else:\n",
    "        return \"65 ~\"\n",
    "\n",
    "profile.loc[profile['age'] > 100, 'age'] = float('nan')\n",
    "profile['age_bucket'] = profile['age'].apply(bucket_age)"
   ]
  },
  {
   "cell_type": "code",
   "execution_count": 78,
   "metadata": {},
   "outputs": [
    {
     "data": {
      "text/plain": [
       "65 ~       0.378882\n",
       "55 ~ 64    0.201235\n",
       "45 ~ 54    0.177235\n",
       "35 ~ 44    0.109941\n",
       "25 ~ 34    0.081176\n",
       "0 ~ 24     0.051529\n",
       "Name: age_bucket, dtype: float64"
      ]
     },
     "execution_count": 78,
     "metadata": {},
     "output_type": "execute_result"
    }
   ],
   "source": [
    "profile['age_bucket'].value_counts(normalize=True)"
   ]
  },
  {
   "cell_type": "code",
   "execution_count": 79,
   "metadata": {},
   "outputs": [
    {
     "data": {
      "text/plain": [
       "0.4958823529411765"
      ]
     },
     "execution_count": 79,
     "metadata": {},
     "output_type": "execute_result"
    }
   ],
   "source": [
    "sum((profile['age']>=50) & (profile['age']<=80)) / len(profile)"
   ]
  },
  {
   "cell_type": "markdown",
   "metadata": {},
   "source": [
    "### 2.2.2 Gender"
   ]
  },
  {
   "cell_type": "code",
   "execution_count": 13,
   "metadata": {},
   "outputs": [
    {
     "data": {
      "text/plain": [
       "M    0.572277\n",
       "F    0.413423\n",
       "O    0.014300\n",
       "Name: gender, dtype: float64"
      ]
     },
     "execution_count": 13,
     "metadata": {},
     "output_type": "execute_result"
    }
   ],
   "source": [
    "profile['gender'].value_counts(normalize=True)"
   ]
  },
  {
   "cell_type": "markdown",
   "metadata": {},
   "source": [
    "1.4% of the values are missing."
   ]
  },
  {
   "cell_type": "markdown",
   "metadata": {},
   "source": [
    "### 2.2.3 Customer age (how many months since the customer first joined)"
   ]
  },
  {
   "cell_type": "code",
   "execution_count": 14,
   "metadata": {},
   "outputs": [],
   "source": [
    "now = pd.to_datetime(datetime.strftime(datetime.now(), '%Y-%m-%d'), format=\"%Y/%m/%d\")\n",
    "\n",
    "def format_date(x):\n",
    "    x = str(x)\n",
    "    that_day = pd.to_datetime(x, format=\"%Y%m%d\")\n",
    "    return (now - that_day).days/30"
   ]
  },
  {
   "cell_type": "code",
   "execution_count": 15,
   "metadata": {},
   "outputs": [],
   "source": [
    "profile['customer_age'] = profile['became_member_on'].apply(format_date)"
   ]
  },
  {
   "cell_type": "code",
   "execution_count": 16,
   "metadata": {},
   "outputs": [
    {
     "data": {
      "text/plain": [
       "Text(0.5, 0, 'months')"
      ]
     },
     "execution_count": 16,
     "metadata": {},
     "output_type": "execute_result"
    },
    {
     "data": {
      "image/png": "[encoded data removed]",
      "text/plain": [
       "<Figure size 432x288 with 1 Axes>"
      ]
     },
     "metadata": {
      "needs_background": "light"
     },
     "output_type": "display_data"
    }
   ],
   "source": [
    "plt.hist(profile['customer_age'])\n",
    "plt.title(\"Customer_age distribution\")\n",
    "plt.xlabel('months')"
   ]
  },
  {
   "cell_type": "code",
   "execution_count": 17,
   "metadata": {},
   "outputs": [
    {
     "data": {
      "text/plain": [
       "0.5477647058823529"
      ]
     },
     "execution_count": 17,
     "metadata": {},
     "output_type": "execute_result"
    }
   ],
   "source": [
    "sum(profile['customer_age'] <= 36) / len(profile)"
   ]
  },
  {
   "cell_type": "markdown",
   "metadata": {},
   "source": [
    "The \"oldest\" customer joined about 6 years ago! "
   ]
  },
  {
   "cell_type": "markdown",
   "metadata": {},
   "source": [
    "### 2.2.4 Income"
   ]
  },
  {
   "cell_type": "code",
   "execution_count": 18,
   "metadata": {},
   "outputs": [
    {
     "name": "stderr",
     "output_type": "stream",
     "text": [
      "/Users/tianyiwang/anaconda3/lib/python3.7/site-packages/numpy/lib/histograms.py:754: RuntimeWarning: invalid value encountered in greater_equal\n",
      "  keep = (tmp_a >= first_edge)\n",
      "/Users/tianyiwang/anaconda3/lib/python3.7/site-packages/numpy/lib/histograms.py:755: RuntimeWarning: invalid value encountered in less_equal\n",
      "  keep &= (tmp_a <= last_edge)\n"
     ]
    },
    {
     "data": {
      "text/plain": [
       "Text(0.5, 1.0, 'Income')"
      ]
     },
     "execution_count": 18,
     "metadata": {},
     "output_type": "execute_result"
    },
    {
     "data": {
      "image/png": "[encoded data removed]",
      "text/plain": [
       "<Figure size 432x288 with 1 Axes>"
      ]
     },
     "metadata": {
      "needs_background": "light"
     },
     "output_type": "display_data"
    }
   ],
   "source": [
    "plt.hist(profile['income'])\n",
    "plt.title('Income')"
   ]
  },
  {
   "cell_type": "code",
   "execution_count": 19,
   "metadata": {},
   "outputs": [
    {
     "data": {
      "text/plain": [
       "0.12794117647058822"
      ]
     },
     "execution_count": 19,
     "metadata": {},
     "output_type": "execute_result"
    }
   ],
   "source": [
    "profile['income'].isna().sum() / len(profile)"
   ]
  },
  {
   "cell_type": "code",
   "execution_count": 20,
   "metadata": {},
   "outputs": [
    {
     "data": {
      "text/plain": [
       "0.41611764705882354"
      ]
     },
     "execution_count": 20,
     "metadata": {},
     "output_type": "execute_result"
    }
   ],
   "source": [
    "sum((profile['income']>50000) & (profile['income']<80000))/len(profile)"
   ]
  },
  {
   "cell_type": "code",
   "execution_count": 21,
   "metadata": {},
   "outputs": [
    {
     "data": {
      "text/plain": [
       "Text(0.5, 1.0, 'Relationship between age and income')"
      ]
     },
     "execution_count": 21,
     "metadata": {},
     "output_type": "execute_result"
    },
    {
     "data": {
      "image/png": "[encoded data removed]",
      "text/plain": [
       "<Figure size 432x288 with 1 Axes>"
      ]
     },
     "metadata": {
      "needs_background": "light"
     },
     "output_type": "display_data"
    }
   ],
   "source": [
    "plt.scatter(profile['age'], profile['income'], c=profile['customer_age'])\n",
    "plt.xlabel('age')\n",
    "plt.ylabel('income')\n",
    "plt.title(\"Relationship between age and income\")"
   ]
  },
  {
   "cell_type": "markdown",
   "metadata": {},
   "source": [
    "# 2.3 Analyze `Transcript` data\n",
    "\n",
    "Transcript table records customers' transactions.\n",
    "\n",
    "Explanation on the data:\n",
    "\n",
    "**person**: (string/hash)\n",
    "<br>**event**: (string) offer received, offer viewed, transaction, offer completed\n",
    "<br>**value**: (dictionary) different values depending on event type\n",
    "<br>**offer id**: (string/hash) not associated with any \"transaction\"\n",
    "<br>**amount**: (numeric) money spent in \"transaction\"\n",
    "<br>**reward**: (numeric) money gained from \"offer completed\"\n",
    "<br>**time**: (numeric) hours after start of test\n",
    "\n",
    "There are 4 types of transcript: normal transaction, offer received, offer viewed and offer complete. \n",
    "\n",
    "**Each person can receive the same type of offer for multiple times** and the offer id only tells what type of offer that is ---- it can't be used to recognize a unique offer. Our challenge here is to match the various actions to tell if a certain offer was viewed or completed. Also, customers might not received all types of offers.\n",
    "\n",
    "**We solve this problem by giving an order number of the transactions for each customer. The offer id plus the rank can be seen as a \"unique ID\" for that offer.** We discovered that until the current offer expires, the app won't send another offer under the same type to that customer (we will prove this later). We will attribute the earlist following actions (view the offer or complete the offer) to the earliest offer (under the same offer id) with an extra condition that the following actions need to happen before that offer expires."
   ]
  },
  {
   "cell_type": "code",
   "execution_count": 22,
   "metadata": {},
   "outputs": [
    {
     "data": {
      "text/plain": [
       "transaction        0.453304\n",
       "offer received     0.248837\n",
       "offer viewed       0.188315\n",
       "offer completed    0.109544\n",
       "Name: event, dtype: float64"
      ]
     },
     "execution_count": 22,
     "metadata": {},
     "output_type": "execute_result"
    }
   ],
   "source": [
    "#Distribution of transaction types\n",
    "\n",
    "transcript['event'].value_counts(normalize=True)"
   ]
  },
  {
   "cell_type": "code",
   "execution_count": 23,
   "metadata": {},
   "outputs": [],
   "source": [
    "transcript = pd.read_json('transcript.json', orient='records', lines=True).reset_index()"
   ]
  },
  {
   "cell_type": "code",
   "execution_count": 85,
   "metadata": {},
   "outputs": [
    {
     "data": {
      "text/html": [
       "<div>\n",
       "<style scoped>\n",
       "    .dataframe tbody tr th:only-of-type {\n",
       "        vertical-align: middle;\n",
       "    }\n",
       "\n",
       "    .dataframe tbody tr th {\n",
       "        vertical-align: top;\n",
       "    }\n",
       "\n",
       "    .dataframe thead th {\n",
       "        text-align: right;\n",
       "    }\n",
       "</style>\n",
       "<table border=\"1\" class=\"dataframe\">\n",
       "  <thead>\n",
       "    <tr style=\"text-align: right;\">\n",
       "      <th></th>\n",
       "      <th>index</th>\n",
       "      <th>event</th>\n",
       "      <th>person</th>\n",
       "      <th>time</th>\n",
       "      <th>value</th>\n",
       "      <th>offer_id</th>\n",
       "      <th>amount</th>\n",
       "      <th>reward</th>\n",
       "      <th>rank_in_user</th>\n",
       "    </tr>\n",
       "  </thead>\n",
       "  <tbody>\n",
       "    <tr>\n",
       "      <th>112281</th>\n",
       "      <td>112281</td>\n",
       "      <td>offer received</td>\n",
       "      <td>6006641a7b15444fae1ae0a7e27a88dd</td>\n",
       "      <td>336</td>\n",
       "      <td>{'offer id': '0b1e1539f2cc45b7b9fa7c272da2e1d7'}</td>\n",
       "      <td>0b1e1539f2cc45b7b9fa7c272da2e1d7</td>\n",
       "      <td>NaN</td>\n",
       "      <td>NaN</td>\n",
       "      <td>8.0</td>\n",
       "    </tr>\n",
       "    <tr>\n",
       "      <th>167074</th>\n",
       "      <td>167074</td>\n",
       "      <td>offer viewed</td>\n",
       "      <td>b68bc936296144569115d7cbe8077f51</td>\n",
       "      <td>408</td>\n",
       "      <td>{'offer id': 'fafdcd668e3743c1bb461111dcafc2a4'}</td>\n",
       "      <td>fafdcd668e3743c1bb461111dcafc2a4</td>\n",
       "      <td>NaN</td>\n",
       "      <td>NaN</td>\n",
       "      <td>16.0</td>\n",
       "    </tr>\n",
       "    <tr>\n",
       "      <th>267219</th>\n",
       "      <td>267219</td>\n",
       "      <td>offer completed</td>\n",
       "      <td>d8ec9896d2a34515af66ccf7be5fbe66</td>\n",
       "      <td>588</td>\n",
       "      <td>{'offer_id': 'ae264e3637204a6fb9bb56bc8210ddfd...</td>\n",
       "      <td>ae264e3637204a6fb9bb56bc8210ddfd</td>\n",
       "      <td>NaN</td>\n",
       "      <td>10.0</td>\n",
       "      <td>16.0</td>\n",
       "    </tr>\n",
       "    <tr>\n",
       "      <th>264754</th>\n",
       "      <td>264754</td>\n",
       "      <td>transaction</td>\n",
       "      <td>b1d541fa105e4b6f8f6c6a14831e938f</td>\n",
       "      <td>582</td>\n",
       "      <td>{'amount': 75.65}</td>\n",
       "      <td>NaN</td>\n",
       "      <td>75.65</td>\n",
       "      <td>NaN</td>\n",
       "      <td>17.0</td>\n",
       "    </tr>\n",
       "    <tr>\n",
       "      <th>41932</th>\n",
       "      <td>41932</td>\n",
       "      <td>transaction</td>\n",
       "      <td>ec77e19f18ae42e5ac50e450f0e3f3e3</td>\n",
       "      <td>96</td>\n",
       "      <td>{'amount': 19.52}</td>\n",
       "      <td>NaN</td>\n",
       "      <td>19.52</td>\n",
       "      <td>NaN</td>\n",
       "      <td>4.0</td>\n",
       "    </tr>\n",
       "  </tbody>\n",
       "</table>\n",
       "</div>"
      ],
      "text/plain": [
       "         index            event                            person  time  \\\n",
       "112281  112281   offer received  6006641a7b15444fae1ae0a7e27a88dd   336   \n",
       "167074  167074     offer viewed  b68bc936296144569115d7cbe8077f51   408   \n",
       "267219  267219  offer completed  d8ec9896d2a34515af66ccf7be5fbe66   588   \n",
       "264754  264754      transaction  b1d541fa105e4b6f8f6c6a14831e938f   582   \n",
       "41932    41932      transaction  ec77e19f18ae42e5ac50e450f0e3f3e3    96   \n",
       "\n",
       "                                                    value  \\\n",
       "112281   {'offer id': '0b1e1539f2cc45b7b9fa7c272da2e1d7'}   \n",
       "167074   {'offer id': 'fafdcd668e3743c1bb461111dcafc2a4'}   \n",
       "267219  {'offer_id': 'ae264e3637204a6fb9bb56bc8210ddfd...   \n",
       "264754                                  {'amount': 75.65}   \n",
       "41932                                   {'amount': 19.52}   \n",
       "\n",
       "                                offer_id  amount  reward  rank_in_user  \n",
       "112281  0b1e1539f2cc45b7b9fa7c272da2e1d7     NaN     NaN           8.0  \n",
       "167074  fafdcd668e3743c1bb461111dcafc2a4     NaN     NaN          16.0  \n",
       "267219  ae264e3637204a6fb9bb56bc8210ddfd     NaN    10.0          16.0  \n",
       "264754                               NaN   75.65     NaN          17.0  \n",
       "41932                                NaN   19.52     NaN           4.0  "
      ]
     },
     "execution_count": 85,
     "metadata": {},
     "output_type": "execute_result"
    }
   ],
   "source": [
    "transcript.sample(frac=1).head()"
   ]
  },
  {
   "cell_type": "code",
   "execution_count": 25,
   "metadata": {},
   "outputs": [],
   "source": [
    "#We will use some custom functions to extract offer_id, reward or amount in the 'value' column\n",
    "\n",
    "def get_offer_name1(x):\n",
    "    try:\n",
    "        return x['offer id']\n",
    "    except:\n",
    "        return float('nan')\n",
    "\n",
    "def get_offer_name2(x):\n",
    "    try:\n",
    "        return x['offer_id']\n",
    "    except:\n",
    "        return float('nan') \n",
    "    \n",
    "def get_amount(x):\n",
    "    try:\n",
    "        return x['amount']\n",
    "    except:\n",
    "        return float('nan')\n",
    "    \n",
    "def get_reward(x):\n",
    "    try:\n",
    "        return x['reward']\n",
    "    except:\n",
    "        return float('nan')\n",
    "\n",
    "    \n",
    "transcript['offer_id'] = transcript['value'].apply(get_offer_name1)\n",
    "transcript.loc[(transcript['offer_id'].isna()), \"offer_id\"] = transcript['value'].apply(get_offer_name2)\n",
    "transcript['amount'] = transcript['value'].apply(get_amount)\n",
    "transcript['reward'] = transcript['value'].apply(get_reward)\n",
    "transcript['rank_in_user'] = transcript.groupby('person')['index'].rank() #add a rank to help us attribute offer related activities"
   ]
  },
  {
   "cell_type": "code",
   "execution_count": 81,
   "metadata": {},
   "outputs": [
    {
     "name": "stdout",
     "output_type": "stream",
     "text": [
      "In total we offered 76,277 promotions.\n"
     ]
    }
   ],
   "source": [
    "print(\"In total we offered {:,} promotions.\"\\\n",
    "      .format(len(transcript[transcript['event'] == \"offer received\"])))"
   ]
  },
  {
   "cell_type": "code",
   "execution_count": 83,
   "metadata": {},
   "outputs": [
    {
     "name": "stdout",
     "output_type": "stream",
     "text": [
      "In total there are 63,288 unique person + offer_type combinations.\n"
     ]
    }
   ],
   "source": [
    "print(\"In total there are {:,} unique person + offer_type combinations.\"\\\n",
    "      .format(len(transcript[transcript['event'] == \"offer received\"][['person','offer_id']].drop_duplicates())))"
   ]
  },
  {
   "cell_type": "markdown",
   "metadata": {},
   "source": [
    "> Customers can receive the same type of offer for multiple times."
   ]
  },
  {
   "cell_type": "code",
   "execution_count": 28,
   "metadata": {
    "scrolled": false
   },
   "outputs": [
    {
     "data": {
      "text/html": [
       "<div>\n",
       "<style scoped>\n",
       "    .dataframe tbody tr th:only-of-type {\n",
       "        vertical-align: middle;\n",
       "    }\n",
       "\n",
       "    .dataframe tbody tr th {\n",
       "        vertical-align: top;\n",
       "    }\n",
       "\n",
       "    .dataframe thead th {\n",
       "        text-align: right;\n",
       "    }\n",
       "</style>\n",
       "<table border=\"1\" class=\"dataframe\">\n",
       "  <thead>\n",
       "    <tr style=\"text-align: right;\">\n",
       "      <th></th>\n",
       "      <th>person</th>\n",
       "      <th>index</th>\n",
       "      <th>event</th>\n",
       "      <th>time</th>\n",
       "      <th>value</th>\n",
       "      <th>offer_id</th>\n",
       "      <th>amount</th>\n",
       "      <th>reward</th>\n",
       "      <th>rank_in_user</th>\n",
       "    </tr>\n",
       "  </thead>\n",
       "  <tbody>\n",
       "    <tr>\n",
       "      <th>0</th>\n",
       "      <td>0009655768c64bdeb2e877511632db8f</td>\n",
       "      <td>5</td>\n",
       "      <td>5</td>\n",
       "      <td>5</td>\n",
       "      <td>5</td>\n",
       "      <td>5</td>\n",
       "      <td>0</td>\n",
       "      <td>0</td>\n",
       "      <td>5</td>\n",
       "    </tr>\n",
       "    <tr>\n",
       "      <th>1</th>\n",
       "      <td>00116118485d4dfda04fdbaba9a87b5c</td>\n",
       "      <td>2</td>\n",
       "      <td>2</td>\n",
       "      <td>2</td>\n",
       "      <td>2</td>\n",
       "      <td>2</td>\n",
       "      <td>0</td>\n",
       "      <td>0</td>\n",
       "      <td>2</td>\n",
       "    </tr>\n",
       "    <tr>\n",
       "      <th>2</th>\n",
       "      <td>0011e0d4e6b944f998e987f904e8c1e5</td>\n",
       "      <td>5</td>\n",
       "      <td>5</td>\n",
       "      <td>5</td>\n",
       "      <td>5</td>\n",
       "      <td>5</td>\n",
       "      <td>0</td>\n",
       "      <td>0</td>\n",
       "      <td>5</td>\n",
       "    </tr>\n",
       "    <tr>\n",
       "      <th>3</th>\n",
       "      <td>0020c2b971eb4e9188eac86d93036a77</td>\n",
       "      <td>5</td>\n",
       "      <td>5</td>\n",
       "      <td>5</td>\n",
       "      <td>5</td>\n",
       "      <td>5</td>\n",
       "      <td>0</td>\n",
       "      <td>0</td>\n",
       "      <td>5</td>\n",
       "    </tr>\n",
       "    <tr>\n",
       "      <th>4</th>\n",
       "      <td>0020ccbbb6d84e358d3414a3ff76cffd</td>\n",
       "      <td>4</td>\n",
       "      <td>4</td>\n",
       "      <td>4</td>\n",
       "      <td>4</td>\n",
       "      <td>4</td>\n",
       "      <td>0</td>\n",
       "      <td>0</td>\n",
       "      <td>4</td>\n",
       "    </tr>\n",
       "  </tbody>\n",
       "</table>\n",
       "</div>"
      ],
      "text/plain": [
       "                             person  index  event  time  value  offer_id  \\\n",
       "0  0009655768c64bdeb2e877511632db8f      5      5     5      5         5   \n",
       "1  00116118485d4dfda04fdbaba9a87b5c      2      2     2      2         2   \n",
       "2  0011e0d4e6b944f998e987f904e8c1e5      5      5     5      5         5   \n",
       "3  0020c2b971eb4e9188eac86d93036a77      5      5     5      5         5   \n",
       "4  0020ccbbb6d84e358d3414a3ff76cffd      4      4     4      4         4   \n",
       "\n",
       "   amount  reward  rank_in_user  \n",
       "0       0       0             5  \n",
       "1       0       0             2  \n",
       "2       0       0             5  \n",
       "3       0       0             5  \n",
       "4       0       0             4  "
      ]
     },
     "execution_count": 28,
     "metadata": {},
     "output_type": "execute_result"
    }
   ],
   "source": [
    "transcript[transcript['event'] == \"offer received\"].groupby(['person']).count().reset_index().head()"
   ]
  },
  {
   "cell_type": "code",
   "execution_count": 29,
   "metadata": {},
   "outputs": [],
   "source": [
    "transcript.to_csv(\"transcript_cleaned.csv\", index=False)"
   ]
  },
  {
   "cell_type": "markdown",
   "metadata": {},
   "source": [
    "> Customers might not receive all the offers."
   ]
  },
  {
   "cell_type": "markdown",
   "metadata": {},
   "source": [
    "## 2.3.1 Match offer_received with offer_viewed"
   ]
  },
  {
   "cell_type": "code",
   "execution_count": 30,
   "metadata": {},
   "outputs": [],
   "source": [
    "#from_received_to_viewed is table that matches the offer_received and offer_viewed activities\n",
    "\n",
    "from_received_to_viewed = transcript[transcript['event'] == \"offer received\"][['person', 'offer_id', 'event','time','rank_in_user']]\\\n",
    "                                        .merge(transcript[transcript['event'] == \"offer viewed\"][['person', 'offer_id', 'event','time','rank_in_user']], \n",
    "                                                  on=['person', 'offer_id'], how='left')\\\n",
    "                                        .merge(portfolio[['id','duration']].rename({'id':'offer_id'}, axis=1))\n",
    "\n",
    "from_received_to_viewed['time_received_to_viewed'] = from_received_to_viewed['time_y'] - from_received_to_viewed['time_x']\n",
    "\n",
    "#the offer_viewed action must happen after the offer_received action\n",
    "#the offer_viewed action must be within the active duration of that offer\n",
    "from_received_to_viewed = from_received_to_viewed[(from_received_to_viewed['rank_in_user_x'] < from_received_to_viewed['rank_in_user_y']) & \\\n",
    "                                                                           (from_received_to_viewed['time_received_to_viewed'] <= from_received_to_viewed['duration']*24)]\n",
    "\n",
    "#After the filters above, match the first offer_view with the first offer_received, the 2nd offer view with the 2nd offer_completed, ..., etc\n",
    "from_received_to_viewed = from_received_to_viewed\\\n",
    "                                        .sort_values('rank_in_user_y').groupby(['person','offer_id','rank_in_user_x']).first().reset_index()\\\n",
    "                                        .sort_values('rank_in_user_x').groupby(['person','offer_id','rank_in_user_y']).first().reset_index()\n",
    "\n",
    "from_received_to_viewed['time_received_to_viewed'] = (from_received_to_viewed['time_y'] - from_received_to_viewed['time_x']) / 24"
   ]
  },
  {
   "cell_type": "code",
   "execution_count": 31,
   "metadata": {},
   "outputs": [
    {
     "name": "stdout",
     "output_type": "stream",
     "text": [
      "56567\n",
      "56567\n",
      "56567\n"
     ]
    }
   ],
   "source": [
    "#check whether the matches are unique; the below 3 numbers should be the same\n",
    "print(len(from_received_to_viewed))\n",
    "print(len(from_received_to_viewed[['person','offer_id','rank_in_user_x']].drop_duplicates()))\n",
    "print(len(from_received_to_viewed[['person','offer_id','rank_in_user_y']].drop_duplicates()))"
   ]
  },
  {
   "cell_type": "code",
   "execution_count": 32,
   "metadata": {},
   "outputs": [
    {
     "data": {
      "text/plain": [
       "Text(0.5, 1.0, 'Days taken to view the offer')"
      ]
     },
     "execution_count": 32,
     "metadata": {},
     "output_type": "execute_result"
    },
    {
     "data": {
      "image/png": "[encoded data removed]",
      "text/plain": [
       "<Figure size 432x288 with 1 Axes>"
      ]
     },
     "metadata": {
      "needs_background": "light"
     },
     "output_type": "display_data"
    }
   ],
   "source": [
    "plt.hist(from_received_to_viewed['time_received_to_viewed'])\n",
    "plt.title(\"Days taken to view the offer\")"
   ]
  },
  {
   "cell_type": "code",
   "execution_count": 33,
   "metadata": {},
   "outputs": [
    {
     "name": "stdout",
     "output_type": "stream",
     "text": [
      "66.96% of the offer can be viewed within 1 day\n"
     ]
    }
   ],
   "source": [
    "print(\"{:.2%} of the offer can be viewed within 1 day\"\\\n",
    "      .format(sum(from_received_to_viewed['time_received_to_viewed'] <= 1)/len(from_received_to_viewed)))"
   ]
  },
  {
   "cell_type": "markdown",
   "metadata": {},
   "source": [
    "## 2.3.2 Match offer_received with offer_completed"
   ]
  },
  {
   "cell_type": "code",
   "execution_count": 34,
   "metadata": {},
   "outputs": [],
   "source": [
    "#use the same logic to match offer_received and offer_completed\n",
    "\n",
    "from_received_to_completed = transcript[transcript['event'] == \"offer received\"][['person', 'offer_id', 'event','time','rank_in_user']]\\\n",
    "                                        .merge(transcript[transcript['event'] == \"offer completed\"][['person', 'offer_id', 'event','time','rank_in_user']], \n",
    "                                                  on=['person', 'offer_id'], how='left')\\\n",
    "                                        .merge(portfolio[['id','duration']].rename({'id':'offer_id'}, axis=1))\n",
    "\n",
    "from_received_to_completed['time_received_to_completed'] = from_received_to_completed['time_y'] - from_received_to_completed['time_x']\n",
    "\n",
    "from_received_to_completed = from_received_to_completed[(from_received_to_completed['rank_in_user_x'] < from_received_to_completed['rank_in_user_y']) & \\\n",
    "                                                                           (from_received_to_completed['time_received_to_completed'] <= from_received_to_completed['duration']*24)]\n",
    "\n",
    "\n",
    "from_received_to_completed = from_received_to_completed\\\n",
    "                                        .sort_values('rank_in_user_y').groupby(['person','offer_id','rank_in_user_x']).first().reset_index()\\\n",
    "                                        .sort_values('rank_in_user_x').groupby(['person','offer_id','rank_in_user_y']).first().reset_index()\n",
    "\n",
    "from_received_to_completed['time_received_to_completed'] = (from_received_to_completed['time_y'] - from_received_to_completed['time_x']) / 24"
   ]
  },
  {
   "cell_type": "code",
   "execution_count": 35,
   "metadata": {},
   "outputs": [
    {
     "name": "stdout",
     "output_type": "stream",
     "text": [
      "33101\n",
      "33101\n",
      "33101\n"
     ]
    }
   ],
   "source": [
    "#check whether the matches are unique; the below 3 numbers should be the same\n",
    "print(len(from_received_to_completed))\n",
    "print(len(from_received_to_completed[['person','offer_id','rank_in_user_x']].drop_duplicates()))\n",
    "print(len(from_received_to_completed[['person','offer_id','rank_in_user_y']].drop_duplicates()))"
   ]
  },
  {
   "cell_type": "markdown",
   "metadata": {},
   "source": [
    "## 2.3.3 Create a table to reflect the funnel\n",
    "\n",
    "offer_received \n",
    "<br>|__ offer viewed \n",
    "<br>&nbsp; &nbsp; &nbsp; |__ offer completed\n",
    "<br>&nbsp; &nbsp; &nbsp; |__ offer not completed\n",
    "<br>|__ offer not viewed\n",
    "<br>&nbsp; &nbsp; &nbsp; |__ offer completed\n",
    "<br>&nbsp; &nbsp; &nbsp; |__ offer not completed"
   ]
  },
  {
   "cell_type": "code",
   "execution_count": 36,
   "metadata": {},
   "outputs": [],
   "source": [
    "offer_pipe = transcript[transcript['event'] == \"offer received\"][['person', 'offer_id','time','rank_in_user','event']]\\\n",
    "                    .merge(from_received_to_viewed[['person','offer_id','rank_in_user_x','event_y','time_received_to_viewed']]\\\n",
    "                              .rename({'rank_in_user_x':'rank_in_user'}, axis=1), \n",
    "                              on=['person','offer_id','rank_in_user'], how=\"left\")\\\n",
    "                    .merge(from_received_to_completed[['person','offer_id','rank_in_user_x','event_y','time_received_to_completed']]\\\n",
    "                              .rename({'rank_in_user_x':'rank_in_user'}, axis=1), \n",
    "                              on=['person','offer_id','rank_in_user'], how=\"left\")\n",
    "offer_pipe['viewed'] = offer_pipe['event_y_x'].notna()\n",
    "offer_pipe['time_viewed_to_completed'] = offer_pipe['time_received_to_completed'] - offer_pipe['time_received_to_viewed']"
   ]
  },
  {
   "cell_type": "code",
   "execution_count": 37,
   "metadata": {},
   "outputs": [
    {
     "name": "stdout",
     "output_type": "stream",
     "text": [
      "76277\n",
      "76277\n",
      "76277\n"
     ]
    }
   ],
   "source": [
    "#check whether the matches are unique; the below 3 numbers should be the same\n",
    "#in offer pipe, each row is a unique offer\n",
    "print(len(offer_pipe))\n",
    "print(len(offer_pipe[['person','offer_id','rank_in_user']].drop_duplicates()))\n",
    "print(len(transcript[transcript['event'] == \"offer received\"][['person','offer_id','rank_in_user']].drop_duplicates()))"
   ]
  },
  {
   "cell_type": "code",
   "execution_count": 38,
   "metadata": {},
   "outputs": [
    {
     "name": "stderr",
     "output_type": "stream",
     "text": [
      "/Users/tianyiwang/anaconda3/lib/python3.7/site-packages/numpy/lib/histograms.py:754: RuntimeWarning: invalid value encountered in greater_equal\n",
      "  keep = (tmp_a >= first_edge)\n",
      "/Users/tianyiwang/anaconda3/lib/python3.7/site-packages/numpy/lib/histograms.py:755: RuntimeWarning: invalid value encountered in less_equal\n",
      "  keep &= (tmp_a <= last_edge)\n"
     ]
    },
    {
     "data": {
      "text/plain": [
       "Text(0.5, 1.0, 'Days taken to complete the offer')"
      ]
     },
     "execution_count": 38,
     "metadata": {},
     "output_type": "execute_result"
    },
    {
     "data": {
      "image/png": "[encoded data removed]",
      "text/plain": [
       "<Figure size 432x288 with 1 Axes>"
      ]
     },
     "metadata": {
      "needs_background": "light"
     },
     "output_type": "display_data"
    }
   ],
   "source": [
    "plt.hist(offer_pipe['time_received_to_completed'])\n",
    "plt.title(\"Days taken to complete the offer\")"
   ]
  },
  {
   "cell_type": "code",
   "execution_count": 39,
   "metadata": {},
   "outputs": [
    {
     "data": {
      "text/plain": [
       "Text(0.5, 1.0, 'Days taken from viewing the offer to completing the offer')"
      ]
     },
     "execution_count": 39,
     "metadata": {},
     "output_type": "execute_result"
    },
    {
     "data": {
      "image/png": "[encoded data removed]",
      "text/plain": [
       "<Figure size 432x288 with 1 Axes>"
      ]
     },
     "metadata": {
      "needs_background": "light"
     },
     "output_type": "display_data"
    }
   ],
   "source": [
    "plt.hist(offer_pipe['time_received_to_completed'] - offer_pipe['time_received_to_viewed'])\n",
    "plt.title(\"Days taken from viewing the offer to completing the offer\")"
   ]
  },
  {
   "cell_type": "markdown",
   "metadata": {},
   "source": [
    "Notice that the negative numbers mean that the offers were completed before viewed. This means that the customer made the purchase that already qualified for the promotion although they didn't know about the promotion."
   ]
  },
  {
   "cell_type": "code",
   "execution_count": 40,
   "metadata": {},
   "outputs": [
    {
     "name": "stdout",
     "output_type": "stream",
     "text": [
      "74.16% offers were viewed.\n"
     ]
    }
   ],
   "source": [
    "print(\"{:.2%} offers were viewed.\"\\\n",
    "      .format((sum(offer_pipe[offer_p]['viewed']))/len(offer_pipe)))"
   ]
  },
  {
   "cell_type": "code",
   "execution_count": 41,
   "metadata": {},
   "outputs": [
    {
     "name": "stdout",
     "output_type": "stream",
     "text": [
      "12.86% offers were completed without being viewed.\n"
     ]
    }
   ],
   "source": [
    "print(\"{:.2%} offers were completed without being viewed.\"\\\n",
    "       .format(sum((offer_pipe['event_y_x'].isna() & offer_pipe['event_y_y'].notna()) | \\\n",
    "       (offer_pipe['time_received_to_completed'] < offer_pipe['time_received_to_viewed']))/len(offer_pipe)))"
   ]
  },
  {
   "cell_type": "code",
   "execution_count": 42,
   "metadata": {},
   "outputs": [
    {
     "name": "stdout",
     "output_type": "stream",
     "text": [
      "13.54% of the offer will be completed within one day after being viewed\n"
     ]
    }
   ],
   "source": [
    "print(\"{:.2%} of the offer will be completed within one day after being viewed\"\\\n",
    "        .format(sum((offer_pipe['time_received_to_completed'] - offer_pipe['time_received_to_viewed'] <= 1) & \\\n",
    "                   (offer_pipe['time_received_to_completed'] - offer_pipe['time_received_to_viewed'] >= 0)) / len(offer_pipe)))"
   ]
  },
  {
   "cell_type": "code",
   "execution_count": 43,
   "metadata": {},
   "outputs": [],
   "source": [
    "view_complete = offer_pipe['event_y_x'].notna() & offer_pipe['event_y_y'].notna()\n",
    "view_not_complete = offer_pipe['event_y_x'].notna() & offer_pipe['event_y_y'].isna()\n",
    "not_view_complete = offer_pipe['event_y_x'].isna() & offer_pipe['event_y_y'].notna()\n",
    "not_view_not_complete = offer_pipe['event_y_x'].isna() & offer_pipe['event_y_y'].isna()"
   ]
  },
  {
   "cell_type": "code",
   "execution_count": 44,
   "metadata": {},
   "outputs": [],
   "source": [
    "offer_pipe['viewed'] = offer_pipe['event_y_x'].notna()\n",
    "offer_pipe['completed'] = offer_pipe['event_y_y'].notna()"
   ]
  },
  {
   "cell_type": "code",
   "execution_count": 45,
   "metadata": {},
   "outputs": [
    {
     "data": {
      "text/html": [
       "<div>\n",
       "<style scoped>\n",
       "    .dataframe tbody tr th:only-of-type {\n",
       "        vertical-align: middle;\n",
       "    }\n",
       "\n",
       "    .dataframe tbody tr th {\n",
       "        vertical-align: top;\n",
       "    }\n",
       "\n",
       "    .dataframe thead th {\n",
       "        text-align: right;\n",
       "    }\n",
       "</style>\n",
       "<table border=\"1\" class=\"dataframe\">\n",
       "  <thead>\n",
       "    <tr style=\"text-align: right;\">\n",
       "      <th></th>\n",
       "      <th>viewed</th>\n",
       "      <th>completed</th>\n",
       "      <th>person</th>\n",
       "    </tr>\n",
       "  </thead>\n",
       "  <tbody>\n",
       "    <tr>\n",
       "      <th>0</th>\n",
       "      <td>False</td>\n",
       "      <td>False</td>\n",
       "      <td>13995</td>\n",
       "    </tr>\n",
       "    <tr>\n",
       "      <th>1</th>\n",
       "      <td>False</td>\n",
       "      <td>True</td>\n",
       "      <td>5715</td>\n",
       "    </tr>\n",
       "    <tr>\n",
       "      <th>2</th>\n",
       "      <td>True</td>\n",
       "      <td>False</td>\n",
       "      <td>29181</td>\n",
       "    </tr>\n",
       "    <tr>\n",
       "      <th>3</th>\n",
       "      <td>True</td>\n",
       "      <td>True</td>\n",
       "      <td>27386</td>\n",
       "    </tr>\n",
       "  </tbody>\n",
       "</table>\n",
       "</div>"
      ],
      "text/plain": [
       "   viewed  completed  person\n",
       "0   False      False   13995\n",
       "1   False       True    5715\n",
       "2    True      False   29181\n",
       "3    True       True   27386"
      ]
     },
     "execution_count": 45,
     "metadata": {},
     "output_type": "execute_result"
    }
   ],
   "source": [
    "offer_pipe.groupby(['viewed','completed']).count()['person'].reset_index()"
   ]
  },
  {
   "cell_type": "code",
   "execution_count": 46,
   "metadata": {},
   "outputs": [
    {
     "data": {
      "text/plain": [
       "0.07492428910418605"
      ]
     },
     "execution_count": 46,
     "metadata": {},
     "output_type": "execute_result"
    }
   ],
   "source": [
    "(5715)/(13995+5715+29181+27386)"
   ]
  },
  {
   "cell_type": "code",
   "execution_count": 47,
   "metadata": {},
   "outputs": [
    {
     "name": "stdout",
     "output_type": "stream",
     "text": [
      "6 people didn't receive any offer\n"
     ]
    }
   ],
   "source": [
    "print(\"{} people didn't receive any offer\".format(len(transcript['person'].unique()) - len(offer_pipe['person'].unique())))"
   ]
  },
  {
   "cell_type": "markdown",
   "metadata": {},
   "source": [
    "# 3. Put things together -- describe our customers\n",
    "\n",
    "Right now we have customers' demographics, their transactions and promotion related data. We will put these things together to see whether there are any interesting insights."
   ]
  },
  {
   "cell_type": "code",
   "execution_count": 48,
   "metadata": {
    "scrolled": true
   },
   "outputs": [],
   "source": [
    "final_table = offer_pipe.drop(['event','event_y_x','event_y_y'], axis=1)\\\n",
    ".merge(portfolio[['id','offer_type','difficulty','duration','reward']].rename({'id':'offer_id'}, axis=1), on='offer_id')\\\n",
    ".merge(profile.rename({'id':'person'}, axis=1)[['person','age','gender','age_bucket','customer_age','income']], on='person')"
   ]
  },
  {
   "cell_type": "code",
   "execution_count": 49,
   "metadata": {},
   "outputs": [
    {
     "name": "stdout",
     "output_type": "stream",
     "text": [
      "76277\n",
      "76277\n"
     ]
    }
   ],
   "source": [
    "print(len(offer_pipe))\n",
    "print(len(final_table))"
   ]
  },
  {
   "cell_type": "markdown",
   "metadata": {},
   "source": [
    "Besides offers, we also want to create some features around the transactions."
   ]
  },
  {
   "cell_type": "code",
   "execution_count": 50,
   "metadata": {
    "scrolled": true
   },
   "outputs": [],
   "source": [
    "t1 = transcript[transcript['event'] == \"transaction\"]\n",
    "t2 = transcript[transcript['event'] == \"offer completed\"]\n",
    "\n",
    "per_person = profile.rename({'id':'person'}, axis=1)[['person','age','gender','age_bucket','customer_age']]\\\n",
    ".merge(t1.groupby('person').count()['index'].reset_index().rename({'index':'numbers_of_purchases'}, axis=1).fillna(0), on='person', how='left')\\\n",
    ".merge(t1.groupby('person')['amount'].sum().reset_index().rename({'amount':'total_purchase_amount'}, axis=1).fillna(0), on='person', how='left')\\\n",
    ".merge(t2.groupby('person')['reward'].sum().reset_index().rename({'reward':'total_reward_amount'}, axis=1).fillna(0), on='person', how='left')\n",
    "\n",
    "per_person['net_revenue'] = per_person['total_purchase_amount'] - per_person['total_reward_amount']"
   ]
  },
  {
   "cell_type": "code",
   "execution_count": 51,
   "metadata": {},
   "outputs": [
    {
     "data": {
      "text/html": [
       "<div>\n",
       "<style scoped>\n",
       "    .dataframe tbody tr th:only-of-type {\n",
       "        vertical-align: middle;\n",
       "    }\n",
       "\n",
       "    .dataframe tbody tr th {\n",
       "        vertical-align: top;\n",
       "    }\n",
       "\n",
       "    .dataframe thead th {\n",
       "        text-align: right;\n",
       "    }\n",
       "</style>\n",
       "<table border=\"1\" class=\"dataframe\">\n",
       "  <thead>\n",
       "    <tr style=\"text-align: right;\">\n",
       "      <th></th>\n",
       "      <th>person</th>\n",
       "      <th>age</th>\n",
       "      <th>gender</th>\n",
       "      <th>age_bucket</th>\n",
       "      <th>customer_age</th>\n",
       "      <th>numbers_of_purchases</th>\n",
       "      <th>total_purchase_amount</th>\n",
       "      <th>total_reward_amount</th>\n",
       "      <th>net_revenue</th>\n",
       "    </tr>\n",
       "  </thead>\n",
       "  <tbody>\n",
       "    <tr>\n",
       "      <th>0</th>\n",
       "      <td>68be06ca386d4c31939f3a4f0e3dd783</td>\n",
       "      <td>NaN</td>\n",
       "      <td>None</td>\n",
       "      <td>65 ~</td>\n",
       "      <td>39.366667</td>\n",
       "      <td>9.0</td>\n",
       "      <td>20.40</td>\n",
       "      <td>5.0</td>\n",
       "      <td>15.40</td>\n",
       "    </tr>\n",
       "    <tr>\n",
       "      <th>1</th>\n",
       "      <td>0610b486422d4921ae7d2bf64640c50b</td>\n",
       "      <td>55.0</td>\n",
       "      <td>F</td>\n",
       "      <td>55 ~ 64</td>\n",
       "      <td>34.266667</td>\n",
       "      <td>3.0</td>\n",
       "      <td>77.01</td>\n",
       "      <td>5.0</td>\n",
       "      <td>72.01</td>\n",
       "    </tr>\n",
       "    <tr>\n",
       "      <th>2</th>\n",
       "      <td>38fe809add3b4fcf9315a9694bb96ff5</td>\n",
       "      <td>NaN</td>\n",
       "      <td>None</td>\n",
       "      <td>65 ~</td>\n",
       "      <td>22.200000</td>\n",
       "      <td>6.0</td>\n",
       "      <td>14.30</td>\n",
       "      <td>NaN</td>\n",
       "      <td>NaN</td>\n",
       "    </tr>\n",
       "    <tr>\n",
       "      <th>3</th>\n",
       "      <td>78afa995795e4d85b5d9ceeca43f5fef</td>\n",
       "      <td>75.0</td>\n",
       "      <td>F</td>\n",
       "      <td>65 ~</td>\n",
       "      <td>36.500000</td>\n",
       "      <td>7.0</td>\n",
       "      <td>159.27</td>\n",
       "      <td>20.0</td>\n",
       "      <td>139.27</td>\n",
       "    </tr>\n",
       "    <tr>\n",
       "      <th>4</th>\n",
       "      <td>a03223e636434f42ac4c3df47e8bac43</td>\n",
       "      <td>NaN</td>\n",
       "      <td>None</td>\n",
       "      <td>65 ~</td>\n",
       "      <td>33.600000</td>\n",
       "      <td>3.0</td>\n",
       "      <td>4.65</td>\n",
       "      <td>NaN</td>\n",
       "      <td>NaN</td>\n",
       "    </tr>\n",
       "  </tbody>\n",
       "</table>\n",
       "</div>"
      ],
      "text/plain": [
       "                             person   age gender age_bucket  customer_age  \\\n",
       "0  68be06ca386d4c31939f3a4f0e3dd783   NaN   None       65 ~     39.366667   \n",
       "1  0610b486422d4921ae7d2bf64640c50b  55.0      F    55 ~ 64     34.266667   \n",
       "2  38fe809add3b4fcf9315a9694bb96ff5   NaN   None       65 ~     22.200000   \n",
       "3  78afa995795e4d85b5d9ceeca43f5fef  75.0      F       65 ~     36.500000   \n",
       "4  a03223e636434f42ac4c3df47e8bac43   NaN   None       65 ~     33.600000   \n",
       "\n",
       "   numbers_of_purchases  total_purchase_amount  total_reward_amount  \\\n",
       "0                   9.0                  20.40                  5.0   \n",
       "1                   3.0                  77.01                  5.0   \n",
       "2                   6.0                  14.30                  NaN   \n",
       "3                   7.0                 159.27                 20.0   \n",
       "4                   3.0                   4.65                  NaN   \n",
       "\n",
       "   net_revenue  \n",
       "0        15.40  \n",
       "1        72.01  \n",
       "2          NaN  \n",
       "3       139.27  \n",
       "4          NaN  "
      ]
     },
     "execution_count": 51,
     "metadata": {},
     "output_type": "execute_result"
    }
   ],
   "source": [
    "per_person.head()"
   ]
  },
  {
   "cell_type": "code",
   "execution_count": 52,
   "metadata": {},
   "outputs": [
    {
     "data": {
      "text/html": [
       "<div>\n",
       "<style scoped>\n",
       "    .dataframe tbody tr th:only-of-type {\n",
       "        vertical-align: middle;\n",
       "    }\n",
       "\n",
       "    .dataframe tbody tr th {\n",
       "        vertical-align: top;\n",
       "    }\n",
       "\n",
       "    .dataframe thead th {\n",
       "        text-align: right;\n",
       "    }\n",
       "</style>\n",
       "<table border=\"1\" class=\"dataframe\">\n",
       "  <thead>\n",
       "    <tr style=\"text-align: right;\">\n",
       "      <th></th>\n",
       "      <th>person</th>\n",
       "      <th>offer_id</th>\n",
       "      <th>time</th>\n",
       "      <th>rank_in_user</th>\n",
       "      <th>time_received_to_viewed</th>\n",
       "      <th>time_received_to_completed</th>\n",
       "      <th>viewed</th>\n",
       "      <th>time_viewed_to_completed</th>\n",
       "      <th>completed</th>\n",
       "      <th>offer_type</th>\n",
       "      <th>difficulty</th>\n",
       "      <th>duration</th>\n",
       "      <th>reward</th>\n",
       "      <th>age</th>\n",
       "      <th>gender</th>\n",
       "      <th>age_bucket</th>\n",
       "      <th>customer_age</th>\n",
       "      <th>income</th>\n",
       "    </tr>\n",
       "  </thead>\n",
       "  <tbody>\n",
       "    <tr>\n",
       "      <th>0</th>\n",
       "      <td>78afa995795e4d85b5d9ceeca43f5fef</td>\n",
       "      <td>9b98b8c7a33c4b65b9aebfe6a799e6d9</td>\n",
       "      <td>0</td>\n",
       "      <td>1.0</td>\n",
       "      <td>0.25</td>\n",
       "      <td>5.50</td>\n",
       "      <td>True</td>\n",
       "      <td>5.25</td>\n",
       "      <td>True</td>\n",
       "      <td>bogo</td>\n",
       "      <td>5</td>\n",
       "      <td>7</td>\n",
       "      <td>5</td>\n",
       "      <td>75.0</td>\n",
       "      <td>F</td>\n",
       "      <td>65 ~</td>\n",
       "      <td>36.500000</td>\n",
       "      <td>100000.0</td>\n",
       "    </tr>\n",
       "    <tr>\n",
       "      <th>1</th>\n",
       "      <td>78afa995795e4d85b5d9ceeca43f5fef</td>\n",
       "      <td>f19421c1d4aa40978ebb69ca19b0e20d</td>\n",
       "      <td>504</td>\n",
       "      <td>13.0</td>\n",
       "      <td>3.25</td>\n",
       "      <td>0.25</td>\n",
       "      <td>True</td>\n",
       "      <td>-3.00</td>\n",
       "      <td>True</td>\n",
       "      <td>bogo</td>\n",
       "      <td>5</td>\n",
       "      <td>5</td>\n",
       "      <td>5</td>\n",
       "      <td>75.0</td>\n",
       "      <td>F</td>\n",
       "      <td>65 ~</td>\n",
       "      <td>36.500000</td>\n",
       "      <td>100000.0</td>\n",
       "    </tr>\n",
       "    <tr>\n",
       "      <th>2</th>\n",
       "      <td>78afa995795e4d85b5d9ceeca43f5fef</td>\n",
       "      <td>ae264e3637204a6fb9bb56bc8210ddfd</td>\n",
       "      <td>408</td>\n",
       "      <td>11.0</td>\n",
       "      <td>0.00</td>\n",
       "      <td>4.25</td>\n",
       "      <td>True</td>\n",
       "      <td>4.25</td>\n",
       "      <td>True</td>\n",
       "      <td>bogo</td>\n",
       "      <td>10</td>\n",
       "      <td>7</td>\n",
       "      <td>10</td>\n",
       "      <td>75.0</td>\n",
       "      <td>F</td>\n",
       "      <td>65 ~</td>\n",
       "      <td>36.500000</td>\n",
       "      <td>100000.0</td>\n",
       "    </tr>\n",
       "    <tr>\n",
       "      <th>3</th>\n",
       "      <td>78afa995795e4d85b5d9ceeca43f5fef</td>\n",
       "      <td>5a8bc65990b245e5a138643cd4eb9837</td>\n",
       "      <td>168</td>\n",
       "      <td>6.0</td>\n",
       "      <td>2.00</td>\n",
       "      <td>NaN</td>\n",
       "      <td>True</td>\n",
       "      <td>NaN</td>\n",
       "      <td>False</td>\n",
       "      <td>informational</td>\n",
       "      <td>0</td>\n",
       "      <td>3</td>\n",
       "      <td>0</td>\n",
       "      <td>75.0</td>\n",
       "      <td>F</td>\n",
       "      <td>65 ~</td>\n",
       "      <td>36.500000</td>\n",
       "      <td>100000.0</td>\n",
       "    </tr>\n",
       "    <tr>\n",
       "      <th>4</th>\n",
       "      <td>ebe7ef46ea6f4963a7dd49f501b26779</td>\n",
       "      <td>9b98b8c7a33c4b65b9aebfe6a799e6d9</td>\n",
       "      <td>0</td>\n",
       "      <td>1.0</td>\n",
       "      <td>NaN</td>\n",
       "      <td>NaN</td>\n",
       "      <td>False</td>\n",
       "      <td>NaN</td>\n",
       "      <td>False</td>\n",
       "      <td>bogo</td>\n",
       "      <td>5</td>\n",
       "      <td>7</td>\n",
       "      <td>5</td>\n",
       "      <td>59.0</td>\n",
       "      <td>M</td>\n",
       "      <td>55 ~ 64</td>\n",
       "      <td>64.466667</td>\n",
       "      <td>41000.0</td>\n",
       "    </tr>\n",
       "  </tbody>\n",
       "</table>\n",
       "</div>"
      ],
      "text/plain": [
       "                             person                          offer_id  time  \\\n",
       "0  78afa995795e4d85b5d9ceeca43f5fef  9b98b8c7a33c4b65b9aebfe6a799e6d9     0   \n",
       "1  78afa995795e4d85b5d9ceeca43f5fef  f19421c1d4aa40978ebb69ca19b0e20d   504   \n",
       "2  78afa995795e4d85b5d9ceeca43f5fef  ae264e3637204a6fb9bb56bc8210ddfd   408   \n",
       "3  78afa995795e4d85b5d9ceeca43f5fef  5a8bc65990b245e5a138643cd4eb9837   168   \n",
       "4  ebe7ef46ea6f4963a7dd49f501b26779  9b98b8c7a33c4b65b9aebfe6a799e6d9     0   \n",
       "\n",
       "   rank_in_user  time_received_to_viewed  time_received_to_completed  viewed  \\\n",
       "0           1.0                     0.25                        5.50    True   \n",
       "1          13.0                     3.25                        0.25    True   \n",
       "2          11.0                     0.00                        4.25    True   \n",
       "3           6.0                     2.00                         NaN    True   \n",
       "4           1.0                      NaN                         NaN   False   \n",
       "\n",
       "   time_viewed_to_completed  completed     offer_type  difficulty  duration  \\\n",
       "0                      5.25       True           bogo           5         7   \n",
       "1                     -3.00       True           bogo           5         5   \n",
       "2                      4.25       True           bogo          10         7   \n",
       "3                       NaN      False  informational           0         3   \n",
       "4                       NaN      False           bogo           5         7   \n",
       "\n",
       "   reward   age gender age_bucket  customer_age    income  \n",
       "0       5  75.0      F       65 ~     36.500000  100000.0  \n",
       "1       5  75.0      F       65 ~     36.500000  100000.0  \n",
       "2      10  75.0      F       65 ~     36.500000  100000.0  \n",
       "3       0  75.0      F       65 ~     36.500000  100000.0  \n",
       "4       5  59.0      M    55 ~ 64     64.466667   41000.0  "
      ]
     },
     "execution_count": 52,
     "metadata": {},
     "output_type": "execute_result"
    }
   ],
   "source": [
    "final_table.head()"
   ]
  },
  {
   "cell_type": "markdown",
   "metadata": {},
   "source": [
    "> We now have 2 tables:\n",
    "<br>`final_table`: This table is on the offer level --- each row is a unique offer. We can use this table to see the statuses of the offers --- was the offer viewed? Was the offer completed?...\n",
    "<br>`per_person`: This table is on customer level --- each row is a unique customer. We can use this table to get an overview of each customer --- how many purchases they have made so far? What are their net revenues?...\n",
    "\n",
    "> In this data exploration section, we will answer these 2 questions: \n",
    "> #### (1) What types of customers are more reponsive to each type of campaigns? (2) What types of customers are more valuable?"
   ]
  },
  {
   "cell_type": "code",
   "execution_count": 53,
   "metadata": {},
   "outputs": [],
   "source": [
    "final_table_not_viewed = final_table[~final_table['viewed']]\n",
    "final_table_viewed = final_table[final_table['viewed']]"
   ]
  },
  {
   "cell_type": "code",
   "execution_count": 54,
   "metadata": {},
   "outputs": [],
   "source": [
    "def complete_rate_compare(x):\n",
    "    final_table_not_viewed.groupby(x)['completed'].mean().reset_index()\\\n",
    "    .merge(final_table_viewed.groupby(x)['completed'].mean().reset_index(), on=x)\\\n",
    "    .rename({'completed_x':'not_viewed', 'completed_y':'viewed'}, axis=1)\\\n",
    "    .set_index(x).plot.bar()\n",
    "    plt.title(\"Offer completion rate\")\n",
    "    plt.xticks(rotation = 0)"
   ]
  },
  {
   "cell_type": "code",
   "execution_count": 55,
   "metadata": {},
   "outputs": [
    {
     "data": {
      "image/png": "[encoded data removed]",
      "text/plain": [
       "<Figure size 432x288 with 1 Axes>"
      ]
     },
     "metadata": {
      "needs_background": "light"
     },
     "output_type": "display_data"
    }
   ],
   "source": [
    "complete_rate_compare('offer_type')"
   ]
  },
  {
   "cell_type": "markdown",
   "metadata": {},
   "source": [
    ">In general, offers that are viewed are more likely to be completed, especially for discount promotions. This is also because discount offers usually require higher amount of purchases, while buy-one-get-one is easier to achieve."
   ]
  },
  {
   "cell_type": "code",
   "execution_count": 56,
   "metadata": {},
   "outputs": [
    {
     "data": {
      "image/png": "[encoded data removed]",
      "text/plain": [
       "<Figure size 432x288 with 1 Axes>"
      ]
     },
     "metadata": {
      "needs_background": "light"
     },
     "output_type": "display_data"
    }
   ],
   "source": [
    "complete_rate_compare('gender')"
   ]
  },
  {
   "cell_type": "markdown",
   "metadata": {},
   "source": [
    "> Female customers are more likely to complete the offers"
   ]
  },
  {
   "cell_type": "code",
   "execution_count": 57,
   "metadata": {},
   "outputs": [
    {
     "data": {
      "image/png": "[encoded data removed]",
      "text/plain": [
       "<Figure size 432x288 with 1 Axes>"
      ]
     },
     "metadata": {
      "needs_background": "light"
     },
     "output_type": "display_data"
    }
   ],
   "source": [
    "complete_rate_compare('age_bucket')"
   ]
  },
  {
   "cell_type": "markdown",
   "metadata": {},
   "source": [
    "> Older customers are more likely to complete the offers"
   ]
  },
  {
   "cell_type": "code",
   "execution_count": 58,
   "metadata": {},
   "outputs": [],
   "source": [
    "df = pd.DataFrame(np.random.rand(10, 5), columns=['A', 'B', 'C', 'D', 'E'])"
   ]
  },
  {
   "cell_type": "code",
   "execution_count": 59,
   "metadata": {},
   "outputs": [
    {
     "data": {
      "text/plain": [
       "Text(0.5, 1.0, 'Income and whether the customer completed the offer')"
      ]
     },
     "execution_count": 59,
     "metadata": {},
     "output_type": "execute_result"
    },
    {
     "data": {
      "image/png": "[encoded data removed]",
      "text/plain": [
       "<Figure size 432x288 with 1 Axes>"
      ]
     },
     "metadata": {
      "needs_background": "light"
     },
     "output_type": "display_data"
    }
   ],
   "source": [
    "final_table[['completed','income']].pivot(columns=\"completed\")['income'].plot.box()\n",
    "plt.xlabel('completed the offer')\n",
    "plt.ylabel('income')\n",
    "plt.title(\"Income and whether the customer completed the offer\")"
   ]
  },
  {
   "cell_type": "markdown",
   "metadata": {},
   "source": [
    ">Income level is a positive factor"
   ]
  },
  {
   "cell_type": "code",
   "execution_count": 60,
   "metadata": {},
   "outputs": [
    {
     "data": {
      "text/plain": [
       "Text(0.5, 1.0, \"'Customer age' and whether the customer completed the offer\")"
      ]
     },
     "execution_count": 60,
     "metadata": {},
     "output_type": "execute_result"
    },
    {
     "data": {
      "image/png": "[encoded data removed]",
      "text/plain": [
       "<Figure size 432x288 with 1 Axes>"
      ]
     },
     "metadata": {
      "needs_background": "light"
     },
     "output_type": "display_data"
    }
   ],
   "source": [
    "final_table[['completed','customer_age']].pivot(columns=\"completed\")['customer_age'].plot.box()\n",
    "plt.xlabel('completed the offer')\n",
    "plt.ylabel('customer_age')\n",
    "plt.title(\"'Customer age' and whether the customer completed the offer\")"
   ]
  },
  {
   "cell_type": "code",
   "execution_count": 61,
   "metadata": {},
   "outputs": [
    {
     "data": {
      "text/plain": [
       "offer_type\n",
       "bogo             30499\n",
       "discount         30543\n",
       "informational    15235\n",
       "Name: person, dtype: int64"
      ]
     },
     "execution_count": 61,
     "metadata": {},
     "output_type": "execute_result"
    }
   ],
   "source": [
    "final_table.groupby('offer_type').count()['person']"
   ]
  },
  {
   "cell_type": "code",
   "execution_count": 62,
   "metadata": {},
   "outputs": [
    {
     "data": {
      "text/plain": [
       "offer_id                          offer_type   \n",
       "0b1e1539f2cc45b7b9fa7c272da2e1d7  discount         7668\n",
       "2298d6c36e964ae4a3e7e9706d1fb8c2  discount         7646\n",
       "2906b810c7d4411798c6938adc9daaa5  discount         7632\n",
       "3f207df678b143eea3cee63160fa8bed  informational    7617\n",
       "4d5c57ea9a6940dd891ad53e9dbe8da0  bogo             7593\n",
       "5a8bc65990b245e5a138643cd4eb9837  informational    7618\n",
       "9b98b8c7a33c4b65b9aebfe6a799e6d9  bogo             7677\n",
       "ae264e3637204a6fb9bb56bc8210ddfd  bogo             7658\n",
       "f19421c1d4aa40978ebb69ca19b0e20d  bogo             7571\n",
       "fafdcd668e3743c1bb461111dcafc2a4  discount         7597\n",
       "Name: person, dtype: int64"
      ]
     },
     "execution_count": 62,
     "metadata": {},
     "output_type": "execute_result"
    }
   ],
   "source": [
    "final_table.groupby(['offer_id','offer_type']).count()['person']"
   ]
  },
  {
   "cell_type": "markdown",
   "metadata": {},
   "source": [
    "> The distribution among offers is quite balanced."
   ]
  },
  {
   "cell_type": "code",
   "execution_count": 63,
   "metadata": {},
   "outputs": [],
   "source": [
    "def average_net_revenue_by_group(x):\n",
    "    per_person.groupby(x)['net_revenue'].mean().plot.bar()\n",
    "    plt.title(\"Average Net Revenue\")\n",
    "    plt.xticks(rotation = 0)"
   ]
  },
  {
   "cell_type": "code",
   "execution_count": 64,
   "metadata": {},
   "outputs": [
    {
     "data": {
      "image/png": "[encoded data removed]",
      "text/plain": [
       "<Figure size 432x288 with 1 Axes>"
      ]
     },
     "metadata": {
      "needs_background": "light"
     },
     "output_type": "display_data"
    }
   ],
   "source": [
    "average_net_revenue_by_group('gender')"
   ]
  },
  {
   "cell_type": "code",
   "execution_count": 65,
   "metadata": {},
   "outputs": [
    {
     "data": {
      "image/png": "[encoded data removed]",
      "text/plain": [
       "<Figure size 432x288 with 1 Axes>"
      ]
     },
     "metadata": {
      "needs_background": "light"
     },
     "output_type": "display_data"
    }
   ],
   "source": [
    "average_net_revenue_by_group('age_bucket')"
   ]
  },
  {
   "cell_type": "code",
   "execution_count": 66,
   "metadata": {},
   "outputs": [
    {
     "data": {
      "text/plain": [
       "Text(0, 0.5, 'net revenue')"
      ]
     },
     "execution_count": 66,
     "metadata": {},
     "output_type": "execute_result"
    },
    {
     "data": {
      "image/png": "[encoded data removed]",
      "text/plain": [
       "<Figure size 432x288 with 1 Axes>"
      ]
     },
     "metadata": {
      "needs_background": "light"
     },
     "output_type": "display_data"
    }
   ],
   "source": [
    "plt.scatter(per_person['age'], per_person['net_revenue'])\n",
    "plt.title('Age and net revenue')\n",
    "plt.xlabel('age')\n",
    "plt.ylabel('net revenue')"
   ]
  },
  {
   "cell_type": "code",
   "execution_count": 67,
   "metadata": {},
   "outputs": [
    {
     "data": {
      "text/plain": [
       "Text(0, 0.5, 'net revenue')"
      ]
     },
     "execution_count": 67,
     "metadata": {},
     "output_type": "execute_result"
    },
    {
     "data": {
      "image/png": "[encoded data removed]",
      "text/plain": [
       "<Figure size 432x288 with 1 Axes>"
      ]
     },
     "metadata": {
      "needs_background": "light"
     },
     "output_type": "display_data"
    }
   ],
   "source": [
    "plt.scatter(per_person['customer_age'], per_person['net_revenue'])\n",
    "plt.title('Customer age and net revenue')\n",
    "plt.xlabel('customer_age')\n",
    "plt.ylabel('net revenue')"
   ]
  },
  {
   "cell_type": "code",
   "execution_count": 68,
   "metadata": {},
   "outputs": [
    {
     "data": {
      "text/plain": [
       "Text(0, 0.5, 'net_revenue')"
      ]
     },
     "execution_count": 68,
     "metadata": {},
     "output_type": "execute_result"
    },
    {
     "data": {
      "image/png": "[encoded data removed]",
      "text/plain": [
       "<Figure size 432x288 with 1 Axes>"
      ]
     },
     "metadata": {
      "needs_background": "light"
     },
     "output_type": "display_data"
    }
   ],
   "source": [
    "plt.scatter(per_person['total_reward_amount'], per_person['net_revenue'])\n",
    "plt.title(\"Total reward amount and net revenue\")\n",
    "plt.xlabel('total_reward_amount')\n",
    "plt.ylabel('net_revenue')"
   ]
  },
  {
   "cell_type": "markdown",
   "metadata": {},
   "source": [
    "# 4. Prepare data for machine learning models"
   ]
  },
  {
   "cell_type": "code",
   "execution_count": 69,
   "metadata": {},
   "outputs": [],
   "source": [
    "offer_pipe['time_viewed_to_completed'] = offer_pipe['time_received_to_completed'] - offer_pipe['time_received_to_viewed']\n",
    "offer_pipe['completed'] = offer_pipe['event_y_y'].notna()\n",
    "offer_pipe['effectively_viewed'] = offer_pipe['viewed'] & \\\n",
    "                                               ((offer_pipe['time_viewed_to_completed'] >= 0) | (~offer_pipe['completed']))"
   ]
  },
  {
   "cell_type": "code",
   "execution_count": 70,
   "metadata": {},
   "outputs": [
    {
     "name": "stdout",
     "output_type": "stream",
     "text": [
      "68.79% of the offers were effectively viewed (not viewed after they had completed the offer)\n"
     ]
    }
   ],
   "source": [
    "print(\"{:.2%} of the offers were effectively viewed (not viewed after they had completed the offer)\"\\\n",
    "       .format(sum(offer_pipe['effectively_viewed']) / len(offer_pipe)))"
   ]
  },
  {
   "cell_type": "code",
   "execution_count": 71,
   "metadata": {},
   "outputs": [],
   "source": [
    "def numeric_gender(x):\n",
    "    if x is None:\n",
    "        return 0.5\n",
    "    if x == \"F\":\n",
    "        return 0\n",
    "    else:\n",
    "        return 1\n",
    "\n",
    "profile['gender'] = profile['gender'].apply(numeric_gender)"
   ]
  },
  {
   "cell_type": "code",
   "execution_count": 72,
   "metadata": {},
   "outputs": [],
   "source": [
    "offer_pipe_for_modeling = offer_pipe.drop(['rank_in_user', \n",
    "                                           'event', \n",
    "                                           'event_y_x', \n",
    "                                           'time_received_to_viewed', \n",
    "                                           'time_received_to_completed',\n",
    "                                           'time_viewed_to_completed',\n",
    "                                           'viewed',\n",
    "                                           'event_y_y'], axis=1)\\\n",
    "                                     .merge(portfolio[portfolio['offer_type'] != 'informational']\\\n",
    "                                               .rename({'id':'offer_id'}, axis=1).drop('channels', axis=1), on=\"offer_id\")\\\n",
    "                                     .merge(profile[['age', 'gender', 'income', 'customer_age','id']].rename({'id':'person'}, axis=1))"
   ]
  },
  {
   "cell_type": "code",
   "execution_count": 73,
   "metadata": {},
   "outputs": [
    {
     "data": {
      "text/html": [
       "<div>\n",
       "<style scoped>\n",
       "    .dataframe tbody tr th:only-of-type {\n",
       "        vertical-align: middle;\n",
       "    }\n",
       "\n",
       "    .dataframe tbody tr th {\n",
       "        vertical-align: top;\n",
       "    }\n",
       "\n",
       "    .dataframe thead th {\n",
       "        text-align: right;\n",
       "    }\n",
       "</style>\n",
       "<table border=\"1\" class=\"dataframe\">\n",
       "  <thead>\n",
       "    <tr style=\"text-align: right;\">\n",
       "      <th></th>\n",
       "      <th>person</th>\n",
       "      <th>offer_id</th>\n",
       "      <th>time</th>\n",
       "      <th>completed</th>\n",
       "      <th>effectively_viewed</th>\n",
       "      <th>difficulty</th>\n",
       "      <th>duration</th>\n",
       "      <th>offer_type</th>\n",
       "      <th>reward</th>\n",
       "      <th>web</th>\n",
       "      <th>mobile</th>\n",
       "      <th>email</th>\n",
       "      <th>social</th>\n",
       "      <th>age</th>\n",
       "      <th>gender</th>\n",
       "      <th>income</th>\n",
       "      <th>customer_age</th>\n",
       "    </tr>\n",
       "  </thead>\n",
       "  <tbody>\n",
       "    <tr>\n",
       "      <th>0</th>\n",
       "      <td>78afa995795e4d85b5d9ceeca43f5fef</td>\n",
       "      <td>9b98b8c7a33c4b65b9aebfe6a799e6d9</td>\n",
       "      <td>0</td>\n",
       "      <td>True</td>\n",
       "      <td>True</td>\n",
       "      <td>5</td>\n",
       "      <td>7</td>\n",
       "      <td>bogo</td>\n",
       "      <td>5</td>\n",
       "      <td>1</td>\n",
       "      <td>1</td>\n",
       "      <td>1</td>\n",
       "      <td>0</td>\n",
       "      <td>75.0</td>\n",
       "      <td>0.0</td>\n",
       "      <td>100000.0</td>\n",
       "      <td>36.500000</td>\n",
       "    </tr>\n",
       "    <tr>\n",
       "      <th>1</th>\n",
       "      <td>78afa995795e4d85b5d9ceeca43f5fef</td>\n",
       "      <td>f19421c1d4aa40978ebb69ca19b0e20d</td>\n",
       "      <td>504</td>\n",
       "      <td>True</td>\n",
       "      <td>False</td>\n",
       "      <td>5</td>\n",
       "      <td>5</td>\n",
       "      <td>bogo</td>\n",
       "      <td>5</td>\n",
       "      <td>1</td>\n",
       "      <td>1</td>\n",
       "      <td>1</td>\n",
       "      <td>1</td>\n",
       "      <td>75.0</td>\n",
       "      <td>0.0</td>\n",
       "      <td>100000.0</td>\n",
       "      <td>36.500000</td>\n",
       "    </tr>\n",
       "    <tr>\n",
       "      <th>2</th>\n",
       "      <td>78afa995795e4d85b5d9ceeca43f5fef</td>\n",
       "      <td>ae264e3637204a6fb9bb56bc8210ddfd</td>\n",
       "      <td>408</td>\n",
       "      <td>True</td>\n",
       "      <td>True</td>\n",
       "      <td>10</td>\n",
       "      <td>7</td>\n",
       "      <td>bogo</td>\n",
       "      <td>10</td>\n",
       "      <td>0</td>\n",
       "      <td>1</td>\n",
       "      <td>1</td>\n",
       "      <td>1</td>\n",
       "      <td>75.0</td>\n",
       "      <td>0.0</td>\n",
       "      <td>100000.0</td>\n",
       "      <td>36.500000</td>\n",
       "    </tr>\n",
       "    <tr>\n",
       "      <th>3</th>\n",
       "      <td>ebe7ef46ea6f4963a7dd49f501b26779</td>\n",
       "      <td>9b98b8c7a33c4b65b9aebfe6a799e6d9</td>\n",
       "      <td>0</td>\n",
       "      <td>False</td>\n",
       "      <td>False</td>\n",
       "      <td>5</td>\n",
       "      <td>7</td>\n",
       "      <td>bogo</td>\n",
       "      <td>5</td>\n",
       "      <td>1</td>\n",
       "      <td>1</td>\n",
       "      <td>1</td>\n",
       "      <td>0</td>\n",
       "      <td>59.0</td>\n",
       "      <td>1.0</td>\n",
       "      <td>41000.0</td>\n",
       "      <td>64.466667</td>\n",
       "    </tr>\n",
       "    <tr>\n",
       "      <th>4</th>\n",
       "      <td>ebe7ef46ea6f4963a7dd49f501b26779</td>\n",
       "      <td>9b98b8c7a33c4b65b9aebfe6a799e6d9</td>\n",
       "      <td>576</td>\n",
       "      <td>False</td>\n",
       "      <td>True</td>\n",
       "      <td>5</td>\n",
       "      <td>7</td>\n",
       "      <td>bogo</td>\n",
       "      <td>5</td>\n",
       "      <td>1</td>\n",
       "      <td>1</td>\n",
       "      <td>1</td>\n",
       "      <td>0</td>\n",
       "      <td>59.0</td>\n",
       "      <td>1.0</td>\n",
       "      <td>41000.0</td>\n",
       "      <td>64.466667</td>\n",
       "    </tr>\n",
       "  </tbody>\n",
       "</table>\n",
       "</div>"
      ],
      "text/plain": [
       "                             person                          offer_id  time  \\\n",
       "0  78afa995795e4d85b5d9ceeca43f5fef  9b98b8c7a33c4b65b9aebfe6a799e6d9     0   \n",
       "1  78afa995795e4d85b5d9ceeca43f5fef  f19421c1d4aa40978ebb69ca19b0e20d   504   \n",
       "2  78afa995795e4d85b5d9ceeca43f5fef  ae264e3637204a6fb9bb56bc8210ddfd   408   \n",
       "3  ebe7ef46ea6f4963a7dd49f501b26779  9b98b8c7a33c4b65b9aebfe6a799e6d9     0   \n",
       "4  ebe7ef46ea6f4963a7dd49f501b26779  9b98b8c7a33c4b65b9aebfe6a799e6d9   576   \n",
       "\n",
       "   completed  effectively_viewed  difficulty  duration offer_type  reward  \\\n",
       "0       True                True           5         7       bogo       5   \n",
       "1       True               False           5         5       bogo       5   \n",
       "2       True                True          10         7       bogo      10   \n",
       "3      False               False           5         7       bogo       5   \n",
       "4      False                True           5         7       bogo       5   \n",
       "\n",
       "   web  mobile  email  social   age  gender    income  customer_age  \n",
       "0    1       1      1       0  75.0     0.0  100000.0     36.500000  \n",
       "1    1       1      1       1  75.0     0.0  100000.0     36.500000  \n",
       "2    0       1      1       1  75.0     0.0  100000.0     36.500000  \n",
       "3    1       1      1       0  59.0     1.0   41000.0     64.466667  \n",
       "4    1       1      1       0  59.0     1.0   41000.0     64.466667  "
      ]
     },
     "execution_count": 73,
     "metadata": {},
     "output_type": "execute_result"
    }
   ],
   "source": [
    "offer_pipe_for_modeling.head()"
   ]
  },
  {
   "cell_type": "code",
   "execution_count": 74,
   "metadata": {},
   "outputs": [],
   "source": [
    "offer_pipe_for_modeling.to_csv('offer_pipe_for_modeling.csv', index=False)"
   ]
  },
  {
   "cell_type": "markdown",
   "metadata": {},
   "source": [
    "> # Appendix\n",
    "Prove that until the current offer expires, the app won't send another offer under the same type to that customer"
   ]
  },
  {
   "cell_type": "code",
   "execution_count": 75,
   "metadata": {},
   "outputs": [],
   "source": [
    "t1 = transcript[transcript['event'] == \"offer received\"][['person','time','offer_id','rank_in_user']]\\\n",
    ".merge(portfolio[['id','duration']].rename({'id':'offer_id'}, axis=1))\\\n",
    ".merge(transcript[transcript['event'] == \"offer received\"][['person','time','offer_id','rank_in_user']], on=['person','offer_id'])\n",
    "\n",
    "t1['duration_calc'] = t1['time_y'] - t1['time_x'] #duration between 2 offers under the same type\n",
    "\n",
    "t1['expiration'] = t1['time_x' ] + t1['duration'] #expiration time of the first offer \n",
    "\n",
    "t1 = t1[(t1['duration_calc'] > 0) & (t1['expiration'] >= t1['time_y'])] #the offer on the right should be later than the offer on the left \n",
    "#and we add a filter to get the later offer that comes before the earlier offer expires"
   ]
  },
  {
   "cell_type": "code",
   "execution_count": 76,
   "metadata": {},
   "outputs": [
    {
     "data": {
      "text/html": [
       "<div>\n",
       "<style scoped>\n",
       "    .dataframe tbody tr th:only-of-type {\n",
       "        vertical-align: middle;\n",
       "    }\n",
       "\n",
       "    .dataframe tbody tr th {\n",
       "        vertical-align: top;\n",
       "    }\n",
       "\n",
       "    .dataframe thead th {\n",
       "        text-align: right;\n",
       "    }\n",
       "</style>\n",
       "<table border=\"1\" class=\"dataframe\">\n",
       "  <thead>\n",
       "    <tr style=\"text-align: right;\">\n",
       "      <th></th>\n",
       "      <th>person</th>\n",
       "      <th>time_x</th>\n",
       "      <th>offer_id</th>\n",
       "      <th>rank_in_user_x</th>\n",
       "      <th>duration</th>\n",
       "      <th>time_y</th>\n",
       "      <th>rank_in_user_y</th>\n",
       "      <th>duration_calc</th>\n",
       "      <th>expiration</th>\n",
       "    </tr>\n",
       "  </thead>\n",
       "  <tbody>\n",
       "  </tbody>\n",
       "</table>\n",
       "</div>"
      ],
      "text/plain": [
       "Empty DataFrame\n",
       "Columns: [person, time_x, offer_id, rank_in_user_x, duration, time_y, rank_in_user_y, duration_calc, expiration]\n",
       "Index: []"
      ]
     },
     "execution_count": 76,
     "metadata": {},
     "output_type": "execute_result"
    }
   ],
   "source": [
    "t1"
   ]
  },
  {
   "cell_type": "code",
   "execution_count": null,
   "metadata": {},
   "outputs": [],
   "source": []
  }
 ],
 "metadata": {
  "kernelspec": {
   "display_name": "Python 3",
   "language": "python",
   "name": "python3"
  },
  "language_info": {
   "codemirror_mode": {
    "name": "ipython",
    "version": 3
   },
   "file_extension": ".py",
   "mimetype": "text/x-python",
   "name": "python",
   "nbconvert_exporter": "python",
   "pygments_lexer": "ipython3",
   "version": "3.7.1"
  }
 },
 "nbformat": 4,
 "nbformat_minor": 2
}
